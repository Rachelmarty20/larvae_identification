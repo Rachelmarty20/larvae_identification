{
 "cells": [
  {
   "cell_type": "code",
   "execution_count": 1,
   "metadata": {
    "collapsed": false
   },
   "outputs": [
    {
     "data": {
      "text/plain": [
       "<matplotlib.figure.Figure at 0x7f610e8f6d90>"
      ]
     },
     "metadata": {},
     "output_type": "display_data"
    }
   ],
   "source": [
    "import os\n",
    "import mahotas as mh\n",
    "import numpy as np\n",
    "from matplotlib import pyplot as plt\n",
    "import pandas as pd\n",
    "import pickle\n",
    "%matplotlib inline\n",
    "plt.rcParams['figure.figsize'] = (10.0, 8.0) # 10 x 8 inches\n",
    "plt.gray()"
   ]
  },
  {
   "cell_type": "markdown",
   "metadata": {},
   "source": [
    "###Build training set"
   ]
  },
  {
   "cell_type": "code",
   "execution_count": 29,
   "metadata": {
    "collapsed": true
   },
   "outputs": [],
   "source": [
    "def create_cluster_script_build_training_set(species_names, sizes):\n",
    "\n",
    "    new_script_file = '/cellar/users/ramarty/Projects/ants/scripts/cluster/version5.0/build_training.binary.sh'\n",
    "\n",
    "    with open(new_script_file, 'w') as out_file:\n",
    "        out_file.write(\"#! /bin/csh\\n\")\n",
    "        out_file.write(\"#$ -V\\n\")\n",
    "        out_file.write(\"#$ -S /bin/csh\\n\")\n",
    "        out_file.write(\"#$ -o /cellar/users/ramarty/Data/ants/sge-system_files\\n\")\n",
    "        out_file.write(\"#$ -e /cellar/users/ramarty/Data/ants/sge-system_files\\n\")\n",
    "        out_file.write(\"#$ -cwd\\n\")\n",
    "        out_file.write(\"#$ -t 1-{0}\\n\".format(len(species_names)))\n",
    "        out_file.write(\"#$ -l h_vmem=1G\\n\")\n",
    "        out_file.write(\"#$ -tc 4\\n\")\n",
    "        out_file.write(\"#$ -l long\")\n",
    "        out_file.write(\"\\n\")\n",
    "\n",
    "        out_file.write(\"set species_names=({0})\\n\".format(\" \".join(species_names)))\n",
    "        out_file.write(\"set sizes=({0})\\n\".format(\" \".join(sizes)))\n",
    "        out_file.write(\"\\n\")\n",
    "\n",
    "        out_file.write(\"set species_name=$species_names[$SGE_TASK_ID]\\n\")\n",
    "        out_file.write(\"set size=$sizes[$SGE_TASK_ID]\\n\")\n",
    "        out_file.write(\"\\n\")\n",
    "\n",
    "        out_file.write(\"date\\n\")\n",
    "        out_file.write(\"hostname\\n\")\n",
    "        out_file.write(\"python /cellar/users/ramarty/Projects/ants/scripts/python/version5.0/build_training.binary.py $species_name $size\\n\")\n",
    "        \n",
    "        out_file.write(\"date\\n\")"
   ]
  },
  {
   "cell_type": "code",
   "execution_count": 30,
   "metadata": {
    "collapsed": true
   },
   "outputs": [],
   "source": [
    "species_names = ['cfellah', 'leptothorax', 'leptothorax']\n",
    "sizes = ['30', '30', '100']"
   ]
  },
  {
   "cell_type": "code",
   "execution_count": 31,
   "metadata": {
    "collapsed": true
   },
   "outputs": [],
   "source": [
    "create_cluster_script_build_training_set(species_names, sizes)"
   ]
  },
  {
   "cell_type": "markdown",
   "metadata": {},
   "source": [
    "###Train classifier"
   ]
  },
  {
   "cell_type": "code",
   "execution_count": 5,
   "metadata": {
    "collapsed": true
   },
   "outputs": [],
   "source": [
    "def create_cluster_script_train_classifier(species_names, sizes):\n",
    "\n",
    "    new_script_file = '/cellar/users/ramarty/Projects/ants/scripts/cluster/version5.0/train_classifier.sh'\n",
    "\n",
    "    with open(new_script_file, 'w') as out_file:\n",
    "        out_file.write(\"#! /bin/csh\\n\")\n",
    "        out_file.write(\"#$ -V\\n\")\n",
    "        out_file.write(\"#$ -S /bin/csh\\n\")\n",
    "        out_file.write(\"#$ -o /cellar/users/ramarty/Data/ants/sge-system_files\\n\")\n",
    "        out_file.write(\"#$ -e /cellar/users/ramarty/Data/ants/sge-system_files\\n\")\n",
    "        out_file.write(\"#$ -cwd\\n\")\n",
    "        out_file.write(\"#$ -t 1-{0}\\n\".format(len(species_names)))\n",
    "        out_file.write(\"#$ -l h_vmem=10G\\n\")\n",
    "        out_file.write(\"#$ -tc 4\\n\")\n",
    "        out_file.write(\"#$ -l long\")\n",
    "        out_file.write(\"\\n\")\n",
    "\n",
    "        out_file.write(\"set species_names=({0})\\n\".format(\" \".join(species_names)))\n",
    "        out_file.write(\"set sizes=({0})\\n\".format(\" \".join(sizes)))\n",
    "        out_file.write(\"\\n\")\n",
    "\n",
    "        out_file.write(\"set species_name=$species_names[$SGE_TASK_ID]\\n\")\n",
    "        out_file.write(\"set size=$sizes[$SGE_TASK_ID]\\n\")\n",
    "        out_file.write(\"\\n\")\n",
    "\n",
    "        out_file.write(\"date\\n\")\n",
    "        out_file.write(\"hostname\\n\")\n",
    "        out_file.write(\"python /cellar/users/ramarty/Projects/ants/scripts/python/version5.0/train_classifier.binary.py $species_name $size\\n\")\n",
    "        \n",
    "        out_file.write(\"date\\n\")"
   ]
  },
  {
   "cell_type": "code",
   "execution_count": 6,
   "metadata": {
    "collapsed": true
   },
   "outputs": [],
   "source": [
    "species_names = ['cfellah', 'cfellah', 'leptothorax', 'leptothorax', 'leptothorax']\n",
    "sizes = ['50', '30', '100', '30', '50']"
   ]
  },
  {
   "cell_type": "code",
   "execution_count": 7,
   "metadata": {
    "collapsed": true
   },
   "outputs": [],
   "source": [
    "create_cluster_script_train_classifier(species_names, sizes)"
   ]
  },
  {
   "cell_type": "markdown",
   "metadata": {},
   "source": [
    "### Real test photos"
   ]
  },
  {
   "cell_type": "code",
   "execution_count": 95,
   "metadata": {
    "collapsed": true
   },
   "outputs": [],
   "source": [
    "files = list(set([x.split('.')[0] for x in os.listdir('/cellar/users/ramarty/Data/ants/photos/') if ('2017' in x) or ('2016' in x)]))[-5:]\n",
    "files = list(set([x.split('.')[0] for x in os.listdir('/cellar/users/ramarty/Data/ants/photos/') if ('2014' in x) or ('box101' in x)]))[-5:]"
   ]
  },
  {
   "cell_type": "code",
   "execution_count": 96,
   "metadata": {
    "collapsed": false
   },
   "outputs": [
    {
     "data": {
      "text/plain": [
       "['box101-01440001',\n",
       " 'box61-20140125-2110-01454402',\n",
       " 'box101-01134001',\n",
       " 'box61-20140119-1410-00367231',\n",
       " 'box101-00799201']"
      ]
     },
     "execution_count": 96,
     "metadata": {},
     "output_type": "execute_result"
    }
   ],
   "source": [
    "files"
   ]
  },
  {
   "cell_type": "code",
   "execution_count": null,
   "metadata": {
    "collapsed": true
   },
   "outputs": [],
   "source": []
  },
  {
   "cell_type": "code",
   "execution_count": null,
   "metadata": {
    "collapsed": true
   },
   "outputs": [],
   "source": []
  },
  {
   "cell_type": "markdown",
   "metadata": {},
   "source": [
    "###Run the classifiers on several photos"
   ]
  },
  {
   "cell_type": "code",
   "execution_count": 97,
   "metadata": {
    "collapsed": true
   },
   "outputs": [],
   "source": [
    "def binarize_labels(paths):\n",
    "    new_script_file = '/cellar/users/ramarty/Projects/ants/scripts/cluster/version5.0/binarize_labels.sh'\n",
    "\n",
    "    with open(new_script_file, 'w') as out_file:\n",
    "        out_file.write(\"#! /bin/csh\\n\")\n",
    "        out_file.write(\"#$ -V\\n\")\n",
    "        out_file.write(\"#$ -S /bin/csh\\n\")\n",
    "        out_file.write(\"#$ -o /cellar/users/ramarty/Data/ants/sge-system_files\\n\")\n",
    "        out_file.write(\"#$ -e /cellar/users/ramarty/Data/ants/sge-system_files\\n\")\n",
    "        out_file.write(\"#$ -cwd\\n\")\n",
    "        out_file.write(\"#$ -t 1-{0}\\n\".format(len(paths)))\n",
    "        out_file.write(\"#$ -l h_vmem=30G\\n\")\n",
    "        out_file.write(\"#$ -tc 40\\n\")\n",
    "        out_file.write(\"#$ -l long\")\n",
    "        out_file.write(\"\\n\")\n",
    "\n",
    "        out_file.write(\"date\\n\")\n",
    "        \n",
    "        out_file.write(\"set paths=({0})\\n\".format(\" \".join(paths)))\n",
    "        out_file.write(\"\\n\")\n",
    "\n",
    "        out_file.write(\"date\\n\")\n",
    "        \n",
    "        out_file.write(\"set p=$paths[$SGE_TASK_ID]\\n\")\n",
    "        out_file.write(\"\\n\")\n",
    "\n",
    "        out_file.write(\"date\\n\")\n",
    "        out_file.write(\"hostname\\n\")\n",
    "        out_file.write(\"python /cellar/users/ramarty/Projects/ants/scripts/python/version5.0/binarize_labels.py $p\\n\")\n",
    "        \n",
    "        out_file.write(\"date\\n\")"
   ]
  },
  {
   "cell_type": "code",
   "execution_count": 98,
   "metadata": {
    "collapsed": true
   },
   "outputs": [],
   "source": [
    "paths = ['/cellar/users/ramarty/Data/ants/photos/'+y+'.png' for y in list(set([x.split('.')[0] for x in os.listdir('/cellar/users/ramarty/Data/ants/photos/') if ('2017' in x) or ('2016' in x)]))[-5:]] + ['/cellar/users/ramarty/Data/ants/photos/'+y+'.png' for y in list(set([x.split('.')[0] for x in os.listdir('/cellar/users/ramarty/Data/ants/photos/') if ('2014' in x) or ('box101' in x)]))[-5:]]"
   ]
  },
  {
   "cell_type": "code",
   "execution_count": 99,
   "metadata": {
    "collapsed": false
   },
   "outputs": [
    {
     "data": {
      "text/plain": [
       "['/cellar/users/ramarty/Data/ants/photos/box61-20170511-0538-00273600.png',\n",
       " '/cellar/users/ramarty/Data/ants/photos/box41-20170318-0359-00100800.png',\n",
       " '/cellar/users/ramarty/Data/ants/photos/box41-20170322-1359-00864000.png',\n",
       " '/cellar/users/ramarty/Data/ants/photos/box41-20170323-0459-00972000.png',\n",
       " '/cellar/users/ramarty/Data/ants/photos/box51-20170512-0307-00432000.png',\n",
       " '/cellar/users/ramarty/Data/ants/photos/box101-01440001.png',\n",
       " '/cellar/users/ramarty/Data/ants/photos/box61-20140125-2110-01454402.png',\n",
       " '/cellar/users/ramarty/Data/ants/photos/box101-01134001.png',\n",
       " '/cellar/users/ramarty/Data/ants/photos/box61-20140119-1410-00367231.png',\n",
       " '/cellar/users/ramarty/Data/ants/photos/box101-00799201.png']"
      ]
     },
     "execution_count": 99,
     "metadata": {},
     "output_type": "execute_result"
    }
   ],
   "source": [
    "paths"
   ]
  },
  {
   "cell_type": "code",
   "execution_count": 100,
   "metadata": {
    "collapsed": true
   },
   "outputs": [],
   "source": [
    "binarize_labels(paths)"
   ]
  },
  {
   "cell_type": "code",
   "execution_count": 110,
   "metadata": {
    "collapsed": true
   },
   "outputs": [],
   "source": [
    "def create_cluster_script_test_classifier(images, classifiers, outputs, sizes):\n",
    "\n",
    "    new_script_file = '/cellar/users/ramarty/Projects/ants/scripts/cluster/version5.0/test_classifier.sh'\n",
    "\n",
    "    with open(new_script_file, 'w') as out_file:\n",
    "        out_file.write(\"#! /bin/csh\\n\")\n",
    "        out_file.write(\"#$ -V\\n\")\n",
    "        out_file.write(\"#$ -S /bin/csh\\n\")\n",
    "        out_file.write(\"#$ -o /cellar/users/ramarty/Data/ants/sge-system_files\\n\")\n",
    "        out_file.write(\"#$ -e /cellar/users/ramarty/Data/ants/sge-system_files\\n\")\n",
    "        out_file.write(\"#$ -cwd\\n\")\n",
    "        out_file.write(\"#$ -t 1-{0}\\n\".format(len(images)))\n",
    "        out_file.write(\"#$ -l h_vmem=10G\\n\")\n",
    "        out_file.write(\"#$ -tc 40\\n\")\n",
    "        out_file.write(\"#$ -l long\")\n",
    "        out_file.write(\"\\n\")\n",
    "\n",
    "        out_file.write(\"set classifiers=({0})\\n\".format(\" \".join(classifiers)))\n",
    "        out_file.write(\"set images=({0})\\n\".format(\" \".join(images)))\n",
    "        out_file.write(\"set outputs=({0})\\n\".format(\" \".join(outputs)))\n",
    "        out_file.write(\"set sizes=({0})\\n\".format(\" \".join(sizes)))\n",
    "        out_file.write(\"\\n\")\n",
    "\n",
    "        out_file.write(\"set classifier=$classifiers[$SGE_TASK_ID]\\n\")\n",
    "        out_file.write(\"set image=$images[$SGE_TASK_ID]\\n\")\n",
    "        out_file.write(\"set output=$outputs[$SGE_TASK_ID]\\n\")\n",
    "        out_file.write(\"set size=$sizes[$SGE_TASK_ID]\\n\")\n",
    "        out_file.write(\"\\n\")\n",
    "\n",
    "        out_file.write(\"date\\n\")\n",
    "        out_file.write(\"hostname\\n\")\n",
    "        out_file.write(\"python /cellar/users/ramarty/Projects/ants/scripts/python/version5.0/Test.py -s $size $classifier $image $output\\n\")\n",
    "        \n",
    "        out_file.write(\"date\\n\")"
   ]
  },
  {
   "cell_type": "code",
   "execution_count": 143,
   "metadata": {
    "collapsed": true
   },
   "outputs": [],
   "source": [
    "species = 'leptothorax'"
   ]
  },
  {
   "cell_type": "code",
   "execution_count": 144,
   "metadata": {
    "collapsed": false
   },
   "outputs": [],
   "source": [
    "if species == 'cfellah':\n",
    "    images = ['/cellar/users/ramarty/Data/ants/photos/'+y for y in list(set([x.split('.')[0] for x in os.listdir('/cellar/users/ramarty/Data/ants/photos/') if ('2017' in x) or ('2016' in x)]))[-5:]]\n",
    "else:\n",
    "    images = ['/cellar/users/ramarty/Data/ants/photos/'+y for y in list(set([x.split('.')[0] for x in os.listdir('/cellar/users/ramarty/Data/ants/photos/') if ('2014' in x) or ('box101' in x)]))[-5:]]\n",
    "classifiers = ['~/Data/ants/version5.0/classifiers/{0}/'.format(species)+x for x in os.listdir('/cellar/users/ramarty/Data/ants/version5.0/classifiers/{0}/'.format(species)) if 'pkl' in x]\n",
    "outputs = ['~/Data/ants/version5.0/predictions/{0}/'.format(species)]"
   ]
  },
  {
   "cell_type": "code",
   "execution_count": 145,
   "metadata": {
    "collapsed": false
   },
   "outputs": [
    {
     "data": {
      "text/plain": [
       "['/cellar/users/ramarty/Data/ants/photos/box101-01440001',\n",
       " '/cellar/users/ramarty/Data/ants/photos/box61-20140125-2110-01454402',\n",
       " '/cellar/users/ramarty/Data/ants/photos/box101-01134001',\n",
       " '/cellar/users/ramarty/Data/ants/photos/box61-20140119-1410-00367221',\n",
       " '/cellar/users/ramarty/Data/ants/photos/box101-00799201']"
      ]
     },
     "execution_count": 145,
     "metadata": {},
     "output_type": "execute_result"
    }
   ],
   "source": [
    "images"
   ]
  },
  {
   "cell_type": "code",
   "execution_count": 121,
   "metadata": {
    "collapsed": false
   },
   "outputs": [
    {
     "data": {
      "text/plain": [
       "['~/Data/ants/version5.0/classifiers/cfellah/random_forest.30.pkl',\n",
       " '~/Data/ants/version5.0/classifiers/cfellah/random_forest.50.pkl']"
      ]
     },
     "execution_count": 121,
     "metadata": {},
     "output_type": "execute_result"
    }
   ],
   "source": [
    "classifiers"
   ]
  },
  {
   "cell_type": "code",
   "execution_count": 122,
   "metadata": {
    "collapsed": false
   },
   "outputs": [],
   "source": [
    "all_images = []\n",
    "for image in images:\n",
    "    all_images.extend([image]*len(classifiers))\n",
    "all_classifiers = classifiers*len(images)\n",
    "all_outputs = outputs*len(all_classifiers)\n",
    "all_sizes = [x.split('/')[-1].split('.')[1] for x in all_classifiers]"
   ]
  },
  {
   "cell_type": "code",
   "execution_count": 123,
   "metadata": {
    "collapsed": false
   },
   "outputs": [
    {
     "data": {
      "text/plain": [
       "(10, 10, 10)"
      ]
     },
     "execution_count": 123,
     "metadata": {},
     "output_type": "execute_result"
    }
   ],
   "source": [
    "len(all_images), len(all_classifiers), len(all_outputs)"
   ]
  },
  {
   "cell_type": "code",
   "execution_count": 124,
   "metadata": {
    "collapsed": false
   },
   "outputs": [],
   "source": [
    "create_cluster_script_test_classifier(all_images, all_classifiers, all_outputs, all_sizes)"
   ]
  },
  {
   "cell_type": "markdown",
   "metadata": {},
   "source": [
    "###Applying filters"
   ]
  },
  {
   "cell_type": "code",
   "execution_count": 39,
   "metadata": {
    "collapsed": true
   },
   "outputs": [],
   "source": [
    "def create_cluster_script_filtering(test_photos, species_names, image_sizes, kernel_sizes):\n",
    "\n",
    "    new_script_file = '/cellar/users/ramarty/Projects/ants/scripts/cluster/version5.0/filter.sh'\n",
    "\n",
    "    with open(new_script_file, 'w') as out_file:\n",
    "        out_file.write(\"#! /bin/csh\\n\")\n",
    "        out_file.write(\"#$ -V\\n\")\n",
    "        out_file.write(\"#$ -S /bin/csh\\n\")\n",
    "        out_file.write(\"#$ -o /cellar/users/ramarty/Data/ants/sge-system_files\\n\")\n",
    "        out_file.write(\"#$ -e /cellar/users/ramarty/Data/ants/sge-system_files\\n\")\n",
    "        out_file.write(\"#$ -cwd\\n\")\n",
    "        #out_file.write(\"#$ -t 1-10\\n\")\n",
    "        out_file.write(\"#$ -t 1-{0}\\n\".format(len(species_names)))\n",
    "        out_file.write(\"#$ -l h_vmem=40G\\n\")\n",
    "        out_file.write(\"#$ -tc 100\\n\")\n",
    "        out_file.write(\"#$ -l long\")\n",
    "        out_file.write(\"\\n\")\n",
    "\n",
    "        out_file.write(\"set test_photos=({0})\\n\".format(\" \".join(test_photos)))\n",
    "        out_file.write(\"set species_names=({0})\\n\".format(\" \".join(species_names)))\n",
    "        out_file.write(\"set sizes=({0})\\n\".format(\" \".join(image_sizes)))\n",
    "        out_file.write(\"set kernels=({0})\\n\".format(\" \".join(kernel_sizes)))\n",
    "        out_file.write(\"\\n\")\n",
    "\n",
    "        out_file.write(\"set test_photo=$test_photos[$SGE_TASK_ID]\\n\")\n",
    "        out_file.write(\"set species_name=$species_names[$SGE_TASK_ID]\\n\")\n",
    "        out_file.write(\"set size=$sizes[$SGE_TASK_ID]\\n\")\n",
    "        out_file.write(\"set kernel=$kernels[$SGE_TASK_ID]\\n\")\n",
    "        out_file.write(\"\\n\")\n",
    "\n",
    "        out_file.write(\"date\\n\")\n",
    "        out_file.write(\"hostname\\n\")\n",
    "        out_file.write(\"python /cellar/users/ramarty/Projects/ants/scripts/python/version5.0/filtering.py $test_photo $species_name $size $kernel\\n\")\n",
    "        \n",
    "        out_file.write(\"date\\n\")"
   ]
  },
  {
   "cell_type": "code",
   "execution_count": 40,
   "metadata": {
    "collapsed": true
   },
   "outputs": [],
   "source": [
    "kernel_sizes = ['25', '50', '75', '100']"
   ]
  },
  {
   "cell_type": "code",
   "execution_count": 41,
   "metadata": {
    "collapsed": true
   },
   "outputs": [],
   "source": [
    "cfellah_test_files = [y for y in list(set([x.split('.')[0] for x in os.listdir('/cellar/users/ramarty/Data/ants/photos/') if ('2017' in x) or ('2016' in x)]))[-5:]]\n",
    "leptothorax_test_files = [y for y in list(set([x.split('.')[0] for x in os.listdir('/cellar/users/ramarty/Data/ants/photos/') if ('2014' in x) or ('box101' in x)]))[-5:]]"
   ]
  },
  {
   "cell_type": "code",
   "execution_count": 46,
   "metadata": {
    "collapsed": false
   },
   "outputs": [
    {
     "data": {
      "text/plain": [
       "['box101-01440001',\n",
       " 'box61-20140125-2110-01454402',\n",
       " 'box101-01134001',\n",
       " 'box61-20140119-1410-00367221',\n",
       " 'box101-00799201']"
      ]
     },
     "execution_count": 46,
     "metadata": {},
     "output_type": "execute_result"
    }
   ],
   "source": [
    "leptothorax_test_files"
   ]
  },
  {
   "cell_type": "code",
   "execution_count": 42,
   "metadata": {
    "collapsed": false
   },
   "outputs": [
    {
     "data": {
      "text/plain": [
       "(25, 25, 25)"
      ]
     },
     "execution_count": 42,
     "metadata": {},
     "output_type": "execute_result"
    }
   ],
   "source": [
    "test_photos = cfellah_test_files*2 + leptothorax_test_files*3\n",
    "species = ['cfellah' for x in range(10)] + ['leptothorax' for x in range(15)]\n",
    "image_sizes = ['30' for x in range(5)] + ['50' for x in range(5)] + ['30' for x in range(5)] + ['50' for x in range(5)] + ['100' for x in range(5)]\n",
    "len(test_photos), len(species), len(image_sizes)"
   ]
  },
  {
   "cell_type": "code",
   "execution_count": 43,
   "metadata": {
    "collapsed": false
   },
   "outputs": [],
   "source": [
    "all_test_photos, all_species, all_image_sizes, all_kernel_sizes = [], [], [], []\n",
    "for kernel_size in kernel_sizes:\n",
    "    all_test_photos.extend(test_photos)\n",
    "    all_species.extend(species)\n",
    "    all_image_sizes.extend(image_sizes)\n",
    "    all_kernel_sizes.extend([kernel_size]*len(test_photos))"
   ]
  },
  {
   "cell_type": "code",
   "execution_count": 44,
   "metadata": {
    "collapsed": false
   },
   "outputs": [
    {
     "data": {
      "text/plain": [
       "(100, 100, 100, 100)"
      ]
     },
     "execution_count": 44,
     "metadata": {},
     "output_type": "execute_result"
    }
   ],
   "source": [
    "len(all_test_photos), len(all_species), len(all_image_sizes), len(all_kernel_sizes)"
   ]
  },
  {
   "cell_type": "code",
   "execution_count": 45,
   "metadata": {
    "collapsed": false
   },
   "outputs": [],
   "source": [
    "create_cluster_script_filtering(all_test_photos, all_species, all_image_sizes, all_kernel_sizes)"
   ]
  },
  {
   "cell_type": "code",
   "execution_count": null,
   "metadata": {
    "collapsed": true
   },
   "outputs": [],
   "source": []
  }
 ],
 "metadata": {
  "kernelspec": {
   "display_name": "Python 2",
   "language": "python",
   "name": "python2"
  },
  "language_info": {
   "codemirror_mode": {
    "name": "ipython",
    "version": 2
   },
   "file_extension": ".py",
   "mimetype": "text/x-python",
   "name": "python",
   "nbconvert_exporter": "python",
   "pygments_lexer": "ipython2",
   "version": "2.7.12"
  }
 },
 "nbformat": 4,
 "nbformat_minor": 0
}
