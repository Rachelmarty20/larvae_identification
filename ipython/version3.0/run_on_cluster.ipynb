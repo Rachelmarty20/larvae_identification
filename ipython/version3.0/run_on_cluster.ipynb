{
 "cells": [
  {
   "cell_type": "code",
   "execution_count": 1,
   "metadata": {
    "collapsed": false
   },
   "outputs": [
    {
     "data": {
      "text/plain": [
       "<matplotlib.figure.Figure at 0x7fec0855ea50>"
      ]
     },
     "metadata": {},
     "output_type": "display_data"
    }
   ],
   "source": [
    "import os\n",
    "import mahotas as mh\n",
    "import numpy as np\n",
    "from matplotlib import pyplot as plt\n",
    "import pandas as pd\n",
    "import pickle\n",
    "%matplotlib inline\n",
    "plt.rcParams['figure.figsize'] = (10.0, 8.0) # 10 x 8 inches\n",
    "plt.gray()"
   ]
  },
  {
   "cell_type": "markdown",
   "metadata": {},
   "source": [
    "###Build training set"
   ]
  },
  {
   "cell_type": "markdown",
   "metadata": {},
   "source": [
    "Binary"
   ]
  },
  {
   "cell_type": "code",
   "execution_count": 84,
   "metadata": {
    "collapsed": true
   },
   "outputs": [],
   "source": [
    "def create_cluster_script_build_training_set(species_names, sizes):\n",
    "\n",
    "    new_script_file = '/cellar/users/ramarty/Projects/ants/scripts/cluster/build_training.binary.sh'\n",
    "\n",
    "    with open(new_script_file, 'w') as out_file:\n",
    "        out_file.write(\"#! /bin/csh\\n\")\n",
    "        out_file.write(\"#$ -V\\n\")\n",
    "        out_file.write(\"#$ -S /bin/csh\\n\")\n",
    "        out_file.write(\"#$ -o /cellar/users/ramarty/Data/ants/sge-system_files\\n\")\n",
    "        out_file.write(\"#$ -e /cellar/users/ramarty/Data/ants/sge-system_files\\n\")\n",
    "        out_file.write(\"#$ -cwd\\n\")\n",
    "        out_file.write(\"#$ -t 1-{0}\\n\".format(len(species_names)))\n",
    "        out_file.write(\"#$ -l h_vmem=1G\\n\")\n",
    "        out_file.write(\"#$ -tc 4\\n\")\n",
    "        out_file.write(\"#$ -l long\")\n",
    "        out_file.write(\"\\n\")\n",
    "\n",
    "        out_file.write(\"set species_names=({0})\\n\".format(\" \".join(species_names)))\n",
    "        out_file.write(\"set sizes=({0})\\n\".format(\" \".join(sizes)))\n",
    "        out_file.write(\"\\n\")\n",
    "\n",
    "        out_file.write(\"set species_name=$species_names[$SGE_TASK_ID]\\n\")\n",
    "        out_file.write(\"set size=$sizes[$SGE_TASK_ID]\\n\")\n",
    "        out_file.write(\"\\n\")\n",
    "\n",
    "        out_file.write(\"date\\n\")\n",
    "        out_file.write(\"hostname\\n\")\n",
    "        out_file.write(\"python /cellar/users/ramarty/Projects/ants/scripts/python/build_training.binary.py $species_name $size\\n\")\n",
    "        \n",
    "        out_file.write(\"date\\n\")"
   ]
  },
  {
   "cell_type": "code",
   "execution_count": 85,
   "metadata": {
    "collapsed": true
   },
   "outputs": [],
   "source": [
    "species_names = ['cfellah', 'leptothorax']\n",
    "sizes = ['50', '50']"
   ]
  },
  {
   "cell_type": "code",
   "execution_count": 86,
   "metadata": {
    "collapsed": true
   },
   "outputs": [],
   "source": [
    "create_cluster_script_build_training_set(species_names, sizes)"
   ]
  },
  {
   "cell_type": "markdown",
   "metadata": {},
   "source": [
    "Continuous"
   ]
  },
  {
   "cell_type": "code",
   "execution_count": 107,
   "metadata": {
    "collapsed": true
   },
   "outputs": [],
   "source": [
    "def create_cluster_script_build_training_set(species_names, sizes):\n",
    "\n",
    "    new_script_file = '/cellar/users/ramarty/Projects/ants/scripts/cluster/build_training.continuous.sh'\n",
    "\n",
    "    with open(new_script_file, 'w') as out_file:\n",
    "        out_file.write(\"#! /bin/csh\\n\")\n",
    "        out_file.write(\"#$ -V\\n\")\n",
    "        out_file.write(\"#$ -S /bin/csh\\n\")\n",
    "        out_file.write(\"#$ -o /cellar/users/ramarty/Data/ants/sge-system_files\\n\")\n",
    "        out_file.write(\"#$ -e /cellar/users/ramarty/Data/ants/sge-system_files\\n\")\n",
    "        out_file.write(\"#$ -cwd\\n\")\n",
    "        out_file.write(\"#$ -t 1-{0}\\n\".format(len(species_names)))\n",
    "        out_file.write(\"#$ -l h_vmem=1G\\n\")\n",
    "        out_file.write(\"#$ -tc 4\\n\")\n",
    "        out_file.write(\"#$ -l long\")\n",
    "        out_file.write(\"\\n\")\n",
    "\n",
    "        out_file.write(\"set species_names=({0})\\n\".format(\" \".join(species_names)))\n",
    "        out_file.write(\"set sizes=({0})\\n\".format(\" \".join(sizes)))\n",
    "        out_file.write(\"\\n\")\n",
    "\n",
    "        out_file.write(\"set species_name=$species_names[$SGE_TASK_ID]\\n\")\n",
    "        out_file.write(\"set size=$sizes[$SGE_TASK_ID]\\n\")\n",
    "        out_file.write(\"\\n\")\n",
    "\n",
    "        out_file.write(\"date\\n\")\n",
    "        out_file.write(\"hostname\\n\")\n",
    "        out_file.write(\"python /cellar/users/ramarty/Projects/ants/scripts/python/build_training.continuous.py $species_name $size\\n\")\n",
    "        \n",
    "        out_file.write(\"date\\n\")"
   ]
  },
  {
   "cell_type": "code",
   "execution_count": 108,
   "metadata": {
    "collapsed": true
   },
   "outputs": [],
   "source": [
    "species_names = ['cfellah', 'cfellah', 'leptothorax', 'leptothorax']\n",
    "sizes = ['50', '150', '50', '150']"
   ]
  },
  {
   "cell_type": "code",
   "execution_count": 109,
   "metadata": {
    "collapsed": true
   },
   "outputs": [],
   "source": [
    "create_cluster_script_build_training_set(species_names, sizes)"
   ]
  },
  {
   "cell_type": "markdown",
   "metadata": {},
   "source": [
    "###Train classifier"
   ]
  },
  {
   "cell_type": "markdown",
   "metadata": {},
   "source": [
    "binary"
   ]
  },
  {
   "cell_type": "code",
   "execution_count": 20,
   "metadata": {
    "collapsed": true
   },
   "outputs": [],
   "source": [
    "def create_cluster_script_train_classifier(species_names, sizes):\n",
    "\n",
    "    new_script_file = '/cellar/users/ramarty/Projects/ants/scripts/cluster/train_classifier.binary.sh'\n",
    "\n",
    "    with open(new_script_file, 'w') as out_file:\n",
    "        out_file.write(\"#! /bin/csh\\n\")\n",
    "        out_file.write(\"#$ -V\\n\")\n",
    "        out_file.write(\"#$ -S /bin/csh\\n\")\n",
    "        out_file.write(\"#$ -o /cellar/users/ramarty/Data/ants/sge-system_files\\n\")\n",
    "        out_file.write(\"#$ -e /cellar/users/ramarty/Data/ants/sge-system_files\\n\")\n",
    "        out_file.write(\"#$ -cwd\\n\")\n",
    "        out_file.write(\"#$ -t 1-{0}\\n\".format(len(species_names)))\n",
    "        out_file.write(\"#$ -l h_vmem=10G\\n\")\n",
    "        out_file.write(\"#$ -tc 4\\n\")\n",
    "        out_file.write(\"#$ -l long\")\n",
    "        out_file.write(\"\\n\")\n",
    "\n",
    "        out_file.write(\"set species_names=({0})\\n\".format(\" \".join(species_names)))\n",
    "        out_file.write(\"set sizes=({0})\\n\".format(\" \".join(sizes)))\n",
    "        out_file.write(\"\\n\")\n",
    "\n",
    "        out_file.write(\"set species_name=$species_names[$SGE_TASK_ID]\\n\")\n",
    "        out_file.write(\"set size=$sizes[$SGE_TASK_ID]\\n\")\n",
    "        out_file.write(\"\\n\")\n",
    "\n",
    "        out_file.write(\"date\\n\")\n",
    "        out_file.write(\"hostname\\n\")\n",
    "        out_file.write(\"python /cellar/users/ramarty/Projects/ants/scripts/python/train_classifier.binary.py $species_name $size\\n\")\n",
    "        \n",
    "        out_file.write(\"date\\n\")"
   ]
  },
  {
   "cell_type": "code",
   "execution_count": 21,
   "metadata": {
    "collapsed": true
   },
   "outputs": [],
   "source": [
    "species_names = ['cfellah', 'cfellah', 'leptothorax', 'leptothorax', 'leptothorax']\n",
    "sizes = ['50', '30', '100', '30', '50']"
   ]
  },
  {
   "cell_type": "code",
   "execution_count": 22,
   "metadata": {
    "collapsed": true
   },
   "outputs": [],
   "source": [
    "create_cluster_script_train_classifier(species_names, sizes)"
   ]
  },
  {
   "cell_type": "markdown",
   "metadata": {},
   "source": [
    "Continuous"
   ]
  },
  {
   "cell_type": "code",
   "execution_count": 23,
   "metadata": {
    "collapsed": true
   },
   "outputs": [],
   "source": [
    "def create_cluster_script_train_classifier(species_names, sizes):\n",
    "\n",
    "    new_script_file = '/cellar/users/ramarty/Projects/ants/scripts/cluster/train_classifier.continuous.sh'\n",
    "\n",
    "    with open(new_script_file, 'w') as out_file:\n",
    "        out_file.write(\"#! /bin/csh\\n\")\n",
    "        out_file.write(\"#$ -V\\n\")\n",
    "        out_file.write(\"#$ -S /bin/csh\\n\")\n",
    "        out_file.write(\"#$ -o /cellar/users/ramarty/Data/ants/sge-system_files\\n\")\n",
    "        out_file.write(\"#$ -e /cellar/users/ramarty/Data/ants/sge-system_files\\n\")\n",
    "        out_file.write(\"#$ -cwd\\n\")\n",
    "        out_file.write(\"#$ -t 1-{0}\\n\".format(len(species_names)))\n",
    "        out_file.write(\"#$ -l h_vmem=10G\\n\")\n",
    "        out_file.write(\"#$ -tc 4\\n\")\n",
    "        out_file.write(\"#$ -l long\")\n",
    "        out_file.write(\"\\n\")\n",
    "\n",
    "        out_file.write(\"set species_names=({0})\\n\".format(\" \".join(species_names)))\n",
    "        out_file.write(\"set sizes=({0})\\n\".format(\" \".join(sizes)))\n",
    "        out_file.write(\"\\n\")\n",
    "\n",
    "        out_file.write(\"set species_name=$species_names[$SGE_TASK_ID]\\n\")\n",
    "        out_file.write(\"set size=$sizes[$SGE_TASK_ID]\\n\")\n",
    "        out_file.write(\"\\n\")\n",
    "\n",
    "        out_file.write(\"date\\n\")\n",
    "        out_file.write(\"hostname\\n\")\n",
    "        out_file.write(\"python /cellar/users/ramarty/Projects/ants/scripts/python/train_classifier.continuous.py $species_name $size\\n\")\n",
    "        \n",
    "        out_file.write(\"date\\n\")"
   ]
  },
  {
   "cell_type": "code",
   "execution_count": 24,
   "metadata": {
    "collapsed": true
   },
   "outputs": [],
   "source": [
    "species_names = ['cfellah', 'cfellah', 'leptothorax', 'leptothorax']\n",
    "sizes = ['50', '150', '50', '150']"
   ]
  },
  {
   "cell_type": "code",
   "execution_count": 25,
   "metadata": {
    "collapsed": true
   },
   "outputs": [],
   "source": [
    "create_cluster_script_train_classifier(species_names, sizes)"
   ]
  },
  {
   "cell_type": "markdown",
   "metadata": {},
   "source": [
    "###Run the classifiers on several photos"
   ]
  },
  {
   "cell_type": "markdown",
   "metadata": {},
   "source": [
    "binary"
   ]
  },
  {
   "cell_type": "code",
   "execution_count": 30,
   "metadata": {
    "collapsed": true
   },
   "outputs": [],
   "source": [
    "def create_cluster_script_run_classifier(test_photos, species_names, image_sizes, steps, recombinations):\n",
    "\n",
    "    new_script_file = '/cellar/users/ramarty/Projects/ants/scripts/cluster/run_classifier.binary.sh'\n",
    "\n",
    "    with open(new_script_file, 'w') as out_file:\n",
    "        out_file.write(\"#! /bin/csh\\n\")\n",
    "        out_file.write(\"#$ -V\\n\")\n",
    "        out_file.write(\"#$ -S /bin/csh\\n\")\n",
    "        out_file.write(\"#$ -o /cellar/users/ramarty/Data/ants/sge-system_files\\n\")\n",
    "        out_file.write(\"#$ -e /cellar/users/ramarty/Data/ants/sge-system_files\\n\")\n",
    "        out_file.write(\"#$ -cwd\\n\")\n",
    "        out_file.write(\"#$ -t 1-{0}\\n\".format(len(species_names)))\n",
    "        out_file.write(\"#$ -l h_vmem=10G\\n\")\n",
    "        out_file.write(\"#$ -tc 40\\n\")\n",
    "        out_file.write(\"#$ -l long\")\n",
    "        out_file.write(\"\\n\")\n",
    "\n",
    "        out_file.write(\"set test_photos=({0})\\n\".format(\" \".join(test_photos)))\n",
    "        out_file.write(\"set species_names=({0})\\n\".format(\" \".join(species_names)))\n",
    "        out_file.write(\"set sizes=({0})\\n\".format(\" \".join(image_sizes)))\n",
    "        out_file.write(\"set steps=({0})\\n\".format(\" \".join(steps)))\n",
    "        out_file.write(\"set recombinations=({0})\\n\".format(\" \".join(recombinations)))\n",
    "        out_file.write(\"\\n\")\n",
    "\n",
    "        out_file.write(\"set test_photo=$test_photos[$SGE_TASK_ID]\\n\")\n",
    "        out_file.write(\"set species_name=$species_names[$SGE_TASK_ID]\\n\")\n",
    "        out_file.write(\"set size=$sizes[$SGE_TASK_ID]\\n\")\n",
    "        out_file.write(\"set step=$steps[$SGE_TASK_ID]\\n\")\n",
    "        out_file.write(\"set recombination=$recombinations[$SGE_TASK_ID]\\n\")\n",
    "        out_file.write(\"\\n\")\n",
    "\n",
    "        out_file.write(\"date\\n\")\n",
    "        out_file.write(\"hostname\\n\")\n",
    "        out_file.write(\"python /cellar/users/ramarty/Projects/ants/scripts/python/run_classifier.binary.py $test_photo $species_name $size $step $recombination\\n\")\n",
    "        \n",
    "        out_file.write(\"date\\n\")"
   ]
  },
  {
   "cell_type": "code",
   "execution_count": 31,
   "metadata": {
    "collapsed": false
   },
   "outputs": [],
   "source": [
    "# test_photo, species, image_size, step, recombination\n",
    "# cfellah\n",
    "cfellah_test_files = list(set([x.split('.')[0] for x in os.listdir('/cellar/users/ramarty/Data/ants/gold_standard/photos/') if ('2017' in x) or ('2016' in x)]))[-5:]\n",
    "# leptothorax\n",
    "leptothorax_test_files = list(set([x.split('.')[0] for x in os.listdir('/cellar/users/ramarty/Data/ants/gold_standard/photos/') if ('2014' in x) or ('box101' in x)]))[-5:]"
   ]
  },
  {
   "cell_type": "code",
   "execution_count": 32,
   "metadata": {
    "collapsed": false
   },
   "outputs": [],
   "source": [
    "test_photos = cfellah_test_files*4 + leptothorax_test_files*6\n",
    "species = ['cfellah' for x in range(20)] + ['leptothorax' for x in range(30)]\n",
    "image_sizes = ['30' for x in range(10)] + ['50' for x in range(10)] + ['30' for x in range(10)] + ['50' for x in range(10)] + ['100' for x in range(10)]\n",
    "step = ['20' for x in range(50)]\n",
    "recombination = ['median' for x in range(5)] + ['mean' for x in range(5)] + ['median' for x in range(5)] + ['mean' for x in range(5)] + ['median' for x in range(5)] + ['mean' for x in range(5)] + ['median' for x in range(5)] + ['mean' for x in range(5)] + ['median' for x in range(5)] + ['mean' for x in range(5)]"
   ]
  },
  {
   "cell_type": "code",
   "execution_count": 33,
   "metadata": {
    "collapsed": false
   },
   "outputs": [
    {
     "data": {
      "text/plain": [
       "(50, 50, 50, 50, 50)"
      ]
     },
     "execution_count": 33,
     "metadata": {},
     "output_type": "execute_result"
    }
   ],
   "source": [
    "len(test_photos), len(species), len(image_sizes), len(step), len(recombination)"
   ]
  },
  {
   "cell_type": "code",
   "execution_count": 34,
   "metadata": {
    "collapsed": false
   },
   "outputs": [],
   "source": [
    "create_cluster_script_run_classifier(test_photos, species, image_sizes, step, recombination)"
   ]
  },
  {
   "cell_type": "markdown",
   "metadata": {},
   "source": [
    "continuous"
   ]
  },
  {
   "cell_type": "code",
   "execution_count": 54,
   "metadata": {
    "collapsed": true
   },
   "outputs": [],
   "source": [
    "def create_cluster_script_run_classifier(test_photos, species_names, image_sizes, steps, recombinations):\n",
    "\n",
    "    new_script_file = '/cellar/users/ramarty/Projects/ants/scripts/cluster/run_classifier.continuous.sh'\n",
    "\n",
    "    with open(new_script_file, 'w') as out_file:\n",
    "        out_file.write(\"#! /bin/csh\\n\")\n",
    "        out_file.write(\"#$ -V\\n\")\n",
    "        out_file.write(\"#$ -S /bin/csh\\n\")\n",
    "        out_file.write(\"#$ -o /cellar/users/ramarty/Data/ants/sge-system_files\\n\")\n",
    "        out_file.write(\"#$ -e /cellar/users/ramarty/Data/ants/sge-system_files\\n\")\n",
    "        out_file.write(\"#$ -cwd\\n\")\n",
    "        out_file.write(\"#$ -t 1-{0}\\n\".format(len(species_names)))\n",
    "        out_file.write(\"#$ -l h_vmem=20G\\n\")\n",
    "        out_file.write(\"#$ -tc 40\\n\")\n",
    "        out_file.write(\"#$ -l long\")\n",
    "        out_file.write(\"\\n\")\n",
    "\n",
    "        out_file.write(\"set test_photos=({0})\\n\".format(\" \".join(test_photos)))\n",
    "        out_file.write(\"set species_names=({0})\\n\".format(\" \".join(species_names)))\n",
    "        out_file.write(\"set sizes=({0})\\n\".format(\" \".join(image_sizes)))\n",
    "        out_file.write(\"set steps=({0})\\n\".format(\" \".join(steps)))\n",
    "        out_file.write(\"set recombinations=({0})\\n\".format(\" \".join(recombinations)))\n",
    "        out_file.write(\"\\n\")\n",
    "\n",
    "        out_file.write(\"set test_photo=$test_photos[$SGE_TASK_ID]\\n\")\n",
    "        out_file.write(\"set species_name=$species_names[$SGE_TASK_ID]\\n\")\n",
    "        out_file.write(\"set size=$sizes[$SGE_TASK_ID]\\n\")\n",
    "        out_file.write(\"set step=$steps[$SGE_TASK_ID]\\n\")\n",
    "        out_file.write(\"set recombination=$recombinations[$SGE_TASK_ID]\\n\")\n",
    "        out_file.write(\"\\n\")\n",
    "\n",
    "        out_file.write(\"date\\n\")\n",
    "        out_file.write(\"hostname\\n\")\n",
    "        out_file.write(\"python /cellar/users/ramarty/Projects/ants/scripts/python/run_classifier.continuous.py $test_photo $species_name $size $step $recombination\\n\")\n",
    "        \n",
    "        out_file.write(\"date\\n\")"
   ]
  },
  {
   "cell_type": "code",
   "execution_count": 55,
   "metadata": {
    "collapsed": true
   },
   "outputs": [],
   "source": [
    "cfellah_test_files = list(set([x.split('.')[0] for x in os.listdir('/cellar/users/ramarty/Data/ants/gold_standard/photos/') if ('2017' in x) or ('2016' in x)]))[-5:]\n",
    "leptothorax_test_files = list(set([x.split('.')[0] for x in os.listdir('/cellar/users/ramarty/Data/ants/gold_standard/photos/') if ('2014' in x) or ('box101' in x)]))[-5:]"
   ]
  },
  {
   "cell_type": "code",
   "execution_count": 56,
   "metadata": {
    "collapsed": true
   },
   "outputs": [],
   "source": [
    "test_photos = cfellah_test_files*4 + leptothorax_test_files*4\n",
    "species = ['cfellah' for x in range(20)] + ['leptothorax' for x in range(20)]\n",
    "image_sizes = ['50' for x in range(10)] + ['150' for x in range(10)] + ['50' for x in range(10)] + ['150' for x in range(10)]\n",
    "step = ['20' for x in range(40)]\n",
    "recombination = ['median' for x in range(5)] + ['mean' for x in range(5)] + ['median' for x in range(5)] + ['mean' for x in range(5)] + ['median' for x in range(5)] + ['mean' for x in range(5)] + ['median' for x in range(5)] + ['mean' for x in range(5)]"
   ]
  },
  {
   "cell_type": "code",
   "execution_count": 57,
   "metadata": {
    "collapsed": false
   },
   "outputs": [
    {
     "data": {
      "text/plain": [
       "(40, 40, 40, 40, 40)"
      ]
     },
     "execution_count": 57,
     "metadata": {},
     "output_type": "execute_result"
    }
   ],
   "source": [
    "len(test_photos), len(species), len(image_sizes), len(step), len(recombination)"
   ]
  },
  {
   "cell_type": "code",
   "execution_count": 58,
   "metadata": {
    "collapsed": true
   },
   "outputs": [],
   "source": [
    "create_cluster_script_run_classifier(test_photos, species, image_sizes, step, recombination)"
   ]
  },
  {
   "cell_type": "markdown",
   "metadata": {},
   "source": [
    "###Assess the accuracy of the classifier for the photos"
   ]
  },
  {
   "cell_type": "markdown",
   "metadata": {},
   "source": [
    "binary"
   ]
  },
  {
   "cell_type": "code",
   "execution_count": 48,
   "metadata": {
    "collapsed": true
   },
   "outputs": [],
   "source": [
    "def create_cluster_script_assess_classifier(test_photos, species_names, image_sizes, steps, recombinations):\n",
    "\n",
    "    new_script_file = '/cellar/users/ramarty/Projects/ants/scripts/cluster/assess_classifier.binary.sh'\n",
    "\n",
    "    with open(new_script_file, 'w') as out_file:\n",
    "        out_file.write(\"#! /bin/csh\\n\")\n",
    "        out_file.write(\"#$ -V\\n\")\n",
    "        out_file.write(\"#$ -S /bin/csh\\n\")\n",
    "        out_file.write(\"#$ -o /cellar/users/ramarty/Data/ants/sge-system_files\\n\")\n",
    "        out_file.write(\"#$ -e /cellar/users/ramarty/Data/ants/sge-system_files\\n\")\n",
    "        out_file.write(\"#$ -cwd\\n\")\n",
    "        out_file.write(\"#$ -t 1-{0}\\n\".format(len(species_names)))\n",
    "        out_file.write(\"#$ -l h_vmem=10G\\n\")\n",
    "        out_file.write(\"#$ -tc 50\\n\")\n",
    "        out_file.write(\"#$ -l long\")\n",
    "        out_file.write(\"\\n\")\n",
    "\n",
    "        out_file.write(\"set test_photos=({0})\\n\".format(\" \".join(test_photos)))\n",
    "        out_file.write(\"set species_names=({0})\\n\".format(\" \".join(species_names)))\n",
    "        out_file.write(\"set sizes=({0})\\n\".format(\" \".join(image_sizes)))\n",
    "        out_file.write(\"set steps=({0})\\n\".format(\" \".join(steps)))\n",
    "        out_file.write(\"set recombinations=({0})\\n\".format(\" \".join(recombinations)))\n",
    "        out_file.write(\"\\n\")\n",
    "\n",
    "        out_file.write(\"set test_photo=$test_photos[$SGE_TASK_ID]\\n\")\n",
    "        out_file.write(\"set species_name=$species_names[$SGE_TASK_ID]\\n\")\n",
    "        out_file.write(\"set size=$sizes[$SGE_TASK_ID]\\n\")\n",
    "        out_file.write(\"set step=$steps[$SGE_TASK_ID]\\n\")\n",
    "        out_file.write(\"set recombination=$recombinations[$SGE_TASK_ID]\\n\")\n",
    "        out_file.write(\"\\n\")\n",
    "\n",
    "        out_file.write(\"date\\n\")\n",
    "        out_file.write(\"hostname\\n\")\n",
    "        out_file.write(\"python /cellar/users/ramarty/Projects/ants/scripts/python/assess_classifier.py $test_photo $species_name $size $step $recombination\\n\")\n",
    "        \n",
    "        out_file.write(\"date\\n\")"
   ]
  },
  {
   "cell_type": "code",
   "execution_count": 49,
   "metadata": {
    "collapsed": false
   },
   "outputs": [
    {
     "data": {
      "text/plain": [
       "(50, 50, 50, 50, 50)"
      ]
     },
     "execution_count": 49,
     "metadata": {},
     "output_type": "execute_result"
    }
   ],
   "source": [
    "test_photos = cfellah_test_files*4 + leptothorax_test_files*6\n",
    "species = ['cfellah' for x in range(20)] + ['leptothorax' for x in range(30)]\n",
    "image_sizes = ['30' for x in range(10)] + ['50' for x in range(10)] + ['30' for x in range(10)] + ['50' for x in range(10)] + ['100' for x in range(10)]\n",
    "step = ['20' for x in range(50)]\n",
    "recombination = ['median' for x in range(5)] + ['mean' for x in range(5)] + ['median' for x in range(5)] + ['mean' for x in range(5)] + ['median' for x in range(5)] + ['mean' for x in range(5)] + ['median' for x in range(5)] + ['mean' for x in range(5)] + ['median' for x in range(5)] + ['mean' for x in range(5)]\n",
    "len(test_photos), len(species), len(image_sizes), len(step), len(recombination)"
   ]
  },
  {
   "cell_type": "code",
   "execution_count": 50,
   "metadata": {
    "collapsed": true
   },
   "outputs": [],
   "source": [
    "create_cluster_script_assess_classifier(test_photos, species, image_sizes, step, recombination)"
   ]
  },
  {
   "cell_type": "markdown",
   "metadata": {},
   "source": [
    "continuous"
   ]
  },
  {
   "cell_type": "code",
   "execution_count": 51,
   "metadata": {
    "collapsed": true
   },
   "outputs": [],
   "source": [
    "def create_cluster_script_assess_classifier(test_photos, species_names, image_sizes, steps, recombinations):\n",
    "\n",
    "    new_script_file = '/cellar/users/ramarty/Projects/ants/scripts/cluster/assess_classifier.continuous.sh'\n",
    "\n",
    "    with open(new_script_file, 'w') as out_file:\n",
    "        out_file.write(\"#! /bin/csh\\n\")\n",
    "        out_file.write(\"#$ -V\\n\")\n",
    "        out_file.write(\"#$ -S /bin/csh\\n\")\n",
    "        out_file.write(\"#$ -o /cellar/users/ramarty/Data/ants/sge-system_files\\n\")\n",
    "        out_file.write(\"#$ -e /cellar/users/ramarty/Data/ants/sge-system_files\\n\")\n",
    "        out_file.write(\"#$ -cwd\\n\")\n",
    "        out_file.write(\"#$ -t 1-{0}\\n\".format(len(species_names)))\n",
    "        out_file.write(\"#$ -l h_vmem=10G\\n\")\n",
    "        out_file.write(\"#$ -tc 50\\n\")\n",
    "        out_file.write(\"#$ -l long\")\n",
    "        out_file.write(\"\\n\")\n",
    "\n",
    "        out_file.write(\"set test_photos=({0})\\n\".format(\" \".join(test_photos)))\n",
    "        out_file.write(\"set species_names=({0})\\n\".format(\" \".join(species_names)))\n",
    "        out_file.write(\"set sizes=({0})\\n\".format(\" \".join(image_sizes)))\n",
    "        out_file.write(\"set steps=({0})\\n\".format(\" \".join(steps)))\n",
    "        out_file.write(\"set recombinations=({0})\\n\".format(\" \".join(recombinations)))\n",
    "        out_file.write(\"\\n\")\n",
    "\n",
    "        out_file.write(\"set test_photo=$test_photos[$SGE_TASK_ID]\\n\")\n",
    "        out_file.write(\"set species_name=$species_names[$SGE_TASK_ID]\\n\")\n",
    "        out_file.write(\"set size=$sizes[$SGE_TASK_ID]\\n\")\n",
    "        out_file.write(\"set step=$steps[$SGE_TASK_ID]\\n\")\n",
    "        out_file.write(\"set recombination=$recombinations[$SGE_TASK_ID]\\n\")\n",
    "        out_file.write(\"\\n\")\n",
    "\n",
    "        out_file.write(\"date\\n\")\n",
    "        out_file.write(\"hostname\\n\")\n",
    "        out_file.write(\"python /cellar/users/ramarty/Projects/ants/scripts/python/assess_classifier.continuous.py $test_photo $species_name $size $step $recombination\\n\")\n",
    "        \n",
    "        out_file.write(\"date\\n\")"
   ]
  },
  {
   "cell_type": "code",
   "execution_count": 52,
   "metadata": {
    "collapsed": false
   },
   "outputs": [
    {
     "data": {
      "text/plain": [
       "(40, 40, 40, 40, 40)"
      ]
     },
     "execution_count": 52,
     "metadata": {},
     "output_type": "execute_result"
    }
   ],
   "source": [
    "test_photos = cfellah_test_files*4 + leptothorax_test_files*4\n",
    "species = ['cfellah' for x in range(20)] + ['leptothorax' for x in range(20)]\n",
    "image_sizes = ['50' for x in range(10)] + ['150' for x in range(10)] + ['50' for x in range(10)] + ['150' for x in range(10)]\n",
    "step = ['20' for x in range(40)]\n",
    "recombination = ['median' for x in range(5)] + ['mean' for x in range(5)] + ['median' for x in range(5)] + ['mean' for x in range(5)] + ['median' for x in range(5)] + ['mean' for x in range(5)] + ['median' for x in range(5)] + ['mean' for x in range(5)]\n",
    "len(test_photos), len(species), len(image_sizes), len(step), len(recombination)"
   ]
  },
  {
   "cell_type": "code",
   "execution_count": 53,
   "metadata": {
    "collapsed": true
   },
   "outputs": [],
   "source": [
    "create_cluster_script_assess_classifier(test_photos, species, image_sizes, step, recombination)"
   ]
  },
  {
   "cell_type": "markdown",
   "metadata": {},
   "source": [
    "###Applying filters"
   ]
  },
  {
   "cell_type": "code",
   "execution_count": 61,
   "metadata": {
    "collapsed": true
   },
   "outputs": [],
   "source": [
    "def create_cluster_script_apply_smoothing(test_photos, species_names, image_sizes, steps, recombinations):\n",
    "\n",
    "    new_script_file = '/cellar/users/ramarty/Projects/ants/scripts/cluster/apply_smoothing.binary.sh'\n",
    "\n",
    "    with open(new_script_file, 'w') as out_file:\n",
    "        out_file.write(\"#! /bin/csh\\n\")\n",
    "        out_file.write(\"#$ -V\\n\")\n",
    "        out_file.write(\"#$ -S /bin/csh\\n\")\n",
    "        out_file.write(\"#$ -o /cellar/users/ramarty/Data/ants/sge-system_files\\n\")\n",
    "        out_file.write(\"#$ -e /cellar/users/ramarty/Data/ants/sge-system_files\\n\")\n",
    "        out_file.write(\"#$ -cwd\\n\")\n",
    "        out_file.write(\"#$ -t 1-{0}\\n\".format(len(species_names)))\n",
    "        out_file.write(\"#$ -l h_vmem=10G\\n\")\n",
    "        out_file.write(\"#$ -tc 50\\n\")\n",
    "        out_file.write(\"#$ -l long\")\n",
    "        out_file.write(\"\\n\")\n",
    "\n",
    "        out_file.write(\"set test_photos=({0})\\n\".format(\" \".join(test_photos)))\n",
    "        out_file.write(\"set species_names=({0})\\n\".format(\" \".join(species_names)))\n",
    "        out_file.write(\"set sizes=({0})\\n\".format(\" \".join(image_sizes)))\n",
    "        out_file.write(\"set steps=({0})\\n\".format(\" \".join(steps)))\n",
    "        out_file.write(\"set recombinations=({0})\\n\".format(\" \".join(recombinations)))\n",
    "        out_file.write(\"\\n\")\n",
    "\n",
    "        out_file.write(\"set test_photo=$test_photos[$SGE_TASK_ID]\\n\")\n",
    "        out_file.write(\"set species_name=$species_names[$SGE_TASK_ID]\\n\")\n",
    "        out_file.write(\"set size=$sizes[$SGE_TASK_ID]\\n\")\n",
    "        out_file.write(\"set step=$steps[$SGE_TASK_ID]\\n\")\n",
    "        out_file.write(\"set recombination=$recombinations[$SGE_TASK_ID]\\n\")\n",
    "        out_file.write(\"\\n\")\n",
    "\n",
    "        out_file.write(\"date\\n\")\n",
    "        out_file.write(\"hostname\\n\")\n",
    "        out_file.write(\"python /cellar/users/ramarty/Projects/ants/scripts/python/apply_smoothing.py $test_photo $species_name $size $step $recombination\\n\")\n",
    "        \n",
    "        out_file.write(\"date\\n\")"
   ]
  },
  {
   "cell_type": "code",
   "execution_count": 62,
   "metadata": {
    "collapsed": false
   },
   "outputs": [
    {
     "data": {
      "text/plain": [
       "(50, 50, 50, 50, 50)"
      ]
     },
     "execution_count": 62,
     "metadata": {},
     "output_type": "execute_result"
    }
   ],
   "source": [
    "test_photos = cfellah_test_files*4 + leptothorax_test_files*6\n",
    "species = ['cfellah' for x in range(20)] + ['leptothorax' for x in range(30)]\n",
    "image_sizes = ['30' for x in range(10)] + ['50' for x in range(10)] + ['30' for x in range(10)] + ['50' for x in range(10)] + ['100' for x in range(10)]\n",
    "step = ['20' for x in range(50)]\n",
    "recombination = ['median' for x in range(5)] + ['mean' for x in range(5)] + ['median' for x in range(5)] + ['mean' for x in range(5)] + ['median' for x in range(5)] + ['mean' for x in range(5)] + ['median' for x in range(5)] + ['mean' for x in range(5)] + ['median' for x in range(5)] + ['mean' for x in range(5)]\n",
    "len(test_photos), len(species), len(image_sizes), len(step), len(recombination)"
   ]
  },
  {
   "cell_type": "code",
   "execution_count": 63,
   "metadata": {
    "collapsed": true
   },
   "outputs": [],
   "source": [
    "create_cluster_script_apply_smoothing(test_photos, species, image_sizes, step, recombination)"
   ]
  },
  {
   "cell_type": "markdown",
   "metadata": {
    "collapsed": true
   },
   "source": [
    "Debugging"
   ]
  },
  {
   "cell_type": "code",
   "execution_count": 76,
   "metadata": {
    "collapsed": false
   },
   "outputs": [],
   "source": [
    "species = 'cfellah'\n",
    "test_photo = cfellah_test_files[0]\n",
    "image_size = '30'\n",
    "step = '20'\n",
    "recombination = 'mean'\n",
    "prediction_matrix = pickle.load(open(\"/cellar/users/ramarty/Data/ants/gold_standard/predictions/{0}/{1}.{2}.{3}.{4}.p\".format(species, test_photo, image_size, step, recombination), \"rb\"))\n",
    "gold_standard = mh.imread('/cellar/users/ramarty/Data/ants/gold_standard/photos/{0}.png'.format(test_photo))"
   ]
  },
  {
   "cell_type": "code",
   "execution_count": 81,
   "metadata": {
    "collapsed": true
   },
   "outputs": [],
   "source": [
    "def f(x):\n",
    "    if ((x[0] == 246) & (x[1] == 255) & (x[2] == 0)) | ((x[0] == 169) & (x[1] == 206) & (x[2] == 114)):\n",
    "        return 1\n",
    "    else:\n",
    "        return 0"
   ]
  },
  {
   "cell_type": "code",
   "execution_count": 82,
   "metadata": {
    "collapsed": false
   },
   "outputs": [],
   "source": [
    "# make gold standard binary for comaprison\n",
    "gs_binary = np.arange(len(gold_standard)*len(gold_standard[0])).reshape(len(gold_standard), len(gold_standard[0]))\n",
    "for row in range(len(gold_standard)):\n",
    "    for col in range(len(gold_standard[0])):\n",
    "        gs_binary[row][col] = f(gold_standard[row][col])"
   ]
  },
  {
   "cell_type": "code",
   "execution_count": 83,
   "metadata": {
    "collapsed": true
   },
   "outputs": [],
   "source": [
    "diff = gs_binary - prediction_matrix\n",
    "total_dim = gs_binary.shape[0] * gs_binary.shape[1]\n",
    "tpr = diff[(diff > 0)].sum() / gs_binary.sum()\n",
    "fpr = abs(diff[(diff < 0)].sum()) / (total_dim - gs_binary.sum())"
   ]
  },
  {
   "cell_type": "code",
   "execution_count": 95,
   "metadata": {
    "collapsed": false
   },
   "outputs": [
    {
     "data": {
      "text/plain": [
       "matrix([[  0.,   0.,   0., ...,   0.,   0.,   0.],\n",
       "        [  0.,   0.,   0., ...,   0.,   0.,   0.],\n",
       "        [  0.,   0.,   0., ...,   0.,   0.,   0.],\n",
       "        ..., \n",
       "        [ nan,  nan,  nan, ...,  nan,  nan,  nan],\n",
       "        [ nan,  nan,  nan, ...,  nan,  nan,  nan],\n",
       "        [ nan,  nan,  nan, ...,  nan,  nan,  nan]])"
      ]
     },
     "execution_count": 95,
     "metadata": {},
     "output_type": "execute_result"
    }
   ],
   "source": [
    "diff"
   ]
  },
  {
   "cell_type": "code",
   "execution_count": 97,
   "metadata": {
    "collapsed": false
   },
   "outputs": [
    {
     "data": {
      "text/plain": [
       "matrix([[  0.,   0.,   0., ...,   0.,   0.,   0.],\n",
       "        [  0.,   0.,   0., ...,   0.,   0.,   0.],\n",
       "        [  0.,   0.,   0., ...,   0.,   0.,   0.],\n",
       "        ..., \n",
       "        [ nan,  nan,  nan, ...,  nan,  nan,  nan],\n",
       "        [ nan,  nan,  nan, ...,  nan,  nan,  nan],\n",
       "        [ nan,  nan,  nan, ...,  nan,  nan,  nan]])"
      ]
     },
     "execution_count": 97,
     "metadata": {},
     "output_type": "execute_result"
    }
   ],
   "source": [
    "prediction_matrix"
   ]
  },
  {
   "cell_type": "code",
   "execution_count": 98,
   "metadata": {
    "collapsed": false
   },
   "outputs": [
    {
     "data": {
      "text/plain": [
       "matrix([[ 0.,  0.,  0., ...,  0.,  0.,  0.],\n",
       "        [ 0.,  0.,  0., ...,  0.,  0.,  0.],\n",
       "        [ 0.,  0.,  0., ...,  0.,  0.,  0.],\n",
       "        ..., \n",
       "        [ 0.,  0.,  0., ...,  0.,  0.,  0.],\n",
       "        [ 0.,  0.,  0., ...,  0.,  0.,  0.],\n",
       "        [ 0.,  0.,  0., ...,  0.,  0.,  0.]])"
      ]
     },
     "execution_count": 98,
     "metadata": {},
     "output_type": "execute_result"
    }
   ],
   "source": [
    "np.nan_to_num(prediction_matrix)"
   ]
  },
  {
   "cell_type": "code",
   "execution_count": null,
   "metadata": {
    "collapsed": true
   },
   "outputs": [],
   "source": []
  }
 ],
 "metadata": {
  "kernelspec": {
   "display_name": "Python 2",
   "language": "python",
   "name": "python2"
  },
  "language_info": {
   "codemirror_mode": {
    "name": "ipython",
    "version": 2
   },
   "file_extension": ".py",
   "mimetype": "text/x-python",
   "name": "python",
   "nbconvert_exporter": "python",
   "pygments_lexer": "ipython2",
   "version": "2.7.12"
  }
 },
 "nbformat": 4,
 "nbformat_minor": 0
}
