{
 "cells": [
  {
   "cell_type": "code",
   "execution_count": 2,
   "metadata": {
    "collapsed": false
   },
   "outputs": [
    {
     "data": {
      "text/plain": [
       "<matplotlib.figure.Figure at 0x7fe879d41610>"
      ]
     },
     "metadata": {},
     "output_type": "display_data"
    }
   ],
   "source": [
    "import os\n",
    "import mahotas as mh\n",
    "import numpy as np\n",
    "from matplotlib import pyplot as plt\n",
    "import pandas as pd\n",
    "%matplotlib inline\n",
    "plt.rcParams['figure.figsize'] = (10.0, 8.0) # 10 x 8 inches\n",
    "plt.gray()"
   ]
  },
  {
   "cell_type": "code",
   "execution_count": 3,
   "metadata": {
    "collapsed": true
   },
   "outputs": [],
   "source": [
    "species = 'cfellah'\n",
    "size = 100"
   ]
  },
  {
   "cell_type": "code",
   "execution_count": 4,
   "metadata": {
    "collapsed": false
   },
   "outputs": [],
   "source": [
    "if species == 'cfellah':\n",
    "    files = list(set([x.split('.')[0] for x in os.listdir('/cellar/users/ramarty/Data/ants/photos/') if ('2017' in x) or ('2016' in x)]))\n",
    "else: # species == 'leptothorax':\n",
    "    files = list(set([x.split('.')[0] for x in os.listdir('/cellar/users/ramarty/Data/ants/photos/') if ('2014' in x) or ('box101' in x)]))"
   ]
  },
  {
   "cell_type": "code",
   "execution_count": 5,
   "metadata": {
    "collapsed": false,
    "scrolled": true
   },
   "outputs": [
    {
     "data": {
      "text/plain": [
       "63"
      ]
     },
     "execution_count": 5,
     "metadata": {},
     "output_type": "execute_result"
    }
   ],
   "source": [
    "len(files)"
   ]
  },
  {
   "cell_type": "code",
   "execution_count": 6,
   "metadata": {
    "collapsed": true
   },
   "outputs": [],
   "source": [
    "photos_directory = '/cellar/users/ramarty/Data/ants/photos'\n",
    "training_directory = '/cellar/users/ramarty/Data/ants/version3.0/training'"
   ]
  },
  {
   "cell_type": "code",
   "execution_count": 7,
   "metadata": {
    "collapsed": false
   },
   "outputs": [],
   "source": [
    "# make directories if they don't exist\n",
    "# species directory\n",
    "if not os.path.exists('{0}/{1}'.format(training_directory, species)):\n",
    "    os.makedirs('{0}/{1}'.format(training_directory, species))\n",
    "# size directory\n",
    "if not os.path.exists('{0}/{1}/{2}'.format(training_directory, species, size)):\n",
    "    os.makedirs('{0}/{1}/{2}'.format(training_directory, species, size))\n",
    "# image directory and target directory\n",
    "if not os.path.exists('{0}/{1}/{2}/images'.format(training_directory, species, size)):\n",
    "    os.makedirs('{0}/{1}/{2}/images'.format(training_directory, species, size))\n",
    "if not os.path.exists('{0}/{1}/{2}/targets'.format(training_directory, species, size)):\n",
    "    os.makedirs('{0}/{1}/{2}/targets'.format(training_directory, species, size))"
   ]
  },
  {
   "cell_type": "code",
   "execution_count": 11,
   "metadata": {
    "collapsed": false
   },
   "outputs": [
    {
     "name": "stdout",
     "output_type": "stream",
     "text": [
      "box11-20170511-0331-00100800\n",
      "box61-20170512-1738-00532800\n",
      "box21-20170513-0416-00446400\n",
      "box31-20170322-1358-00838800\n"
     ]
    },
    {
     "ename": "KeyboardInterrupt",
     "evalue": "",
     "output_type": "error",
     "traceback": [
      "\u001b[1;31m---------------------------------------------------------------------------\u001b[0m",
      "\u001b[1;31mKeyboardInterrupt\u001b[0m                         Traceback (most recent call last)",
      "\u001b[1;32m<ipython-input-11-029a1af56ee4>\u001b[0m in \u001b[0;36m<module>\u001b[1;34m()\u001b[0m\n\u001b[0;32m     22\u001b[0m                     \u001b[0mvalues\u001b[0m \u001b[1;33m=\u001b[0m \u001b[0mim_ann\u001b[0m\u001b[1;33m[\u001b[0m\u001b[0mi\u001b[0m\u001b[1;33m:\u001b[0m\u001b[0mi\u001b[0m\u001b[1;33m+\u001b[0m\u001b[0msize\u001b[0m\u001b[1;33m,\u001b[0m \u001b[0mj\u001b[0m\u001b[1;33m:\u001b[0m\u001b[0mj\u001b[0m\u001b[1;33m+\u001b[0m\u001b[0msize\u001b[0m\u001b[1;33m]\u001b[0m\u001b[1;33m[\u001b[0m\u001b[0mm\u001b[0m\u001b[1;33m]\u001b[0m\u001b[1;33m[\u001b[0m\u001b[0mn\u001b[0m\u001b[1;33m]\u001b[0m\u001b[1;33m\u001b[0m\u001b[0m\n\u001b[0;32m     23\u001b[0m                     \u001b[1;31m# larvae or pupae -- currently counted as the same\u001b[0m\u001b[1;33m\u001b[0m\u001b[1;33m\u001b[0m\u001b[0m\n\u001b[1;32m---> 24\u001b[1;33m                     \u001b[1;32mif\u001b[0m \u001b[1;33m(\u001b[0m\u001b[1;33m(\u001b[0m\u001b[0mvalues\u001b[0m\u001b[1;33m[\u001b[0m\u001b[1;36m0\u001b[0m\u001b[1;33m]\u001b[0m \u001b[1;33m==\u001b[0m \u001b[1;36m246\u001b[0m\u001b[1;33m)\u001b[0m \u001b[1;33m&\u001b[0m \u001b[1;33m(\u001b[0m\u001b[0mvalues\u001b[0m\u001b[1;33m[\u001b[0m\u001b[1;36m1\u001b[0m\u001b[1;33m]\u001b[0m \u001b[1;33m==\u001b[0m \u001b[1;36m255\u001b[0m\u001b[1;33m)\u001b[0m \u001b[1;33m&\u001b[0m \u001b[1;33m(\u001b[0m\u001b[0mvalues\u001b[0m\u001b[1;33m[\u001b[0m\u001b[1;36m2\u001b[0m\u001b[1;33m]\u001b[0m \u001b[1;33m==\u001b[0m \u001b[1;36m0\u001b[0m\u001b[1;33m)\u001b[0m\u001b[1;33m)\u001b[0m \u001b[1;33m|\u001b[0m \u001b[1;33m(\u001b[0m\u001b[1;33m(\u001b[0m\u001b[0mvalues\u001b[0m\u001b[1;33m[\u001b[0m\u001b[1;36m0\u001b[0m\u001b[1;33m]\u001b[0m \u001b[1;33m==\u001b[0m \u001b[1;36m169\u001b[0m\u001b[1;33m)\u001b[0m \u001b[1;33m&\u001b[0m \u001b[1;33m(\u001b[0m\u001b[0mvalues\u001b[0m\u001b[1;33m[\u001b[0m\u001b[1;36m1\u001b[0m\u001b[1;33m]\u001b[0m \u001b[1;33m==\u001b[0m \u001b[1;36m206\u001b[0m\u001b[1;33m)\u001b[0m \u001b[1;33m&\u001b[0m \u001b[1;33m(\u001b[0m\u001b[0mvalues\u001b[0m\u001b[1;33m[\u001b[0m\u001b[1;36m2\u001b[0m\u001b[1;33m]\u001b[0m \u001b[1;33m==\u001b[0m \u001b[1;36m114\u001b[0m\u001b[1;33m)\u001b[0m\u001b[1;33m)\u001b[0m \u001b[1;33m|\u001b[0m \u001b[1;33m(\u001b[0m\u001b[1;33m(\u001b[0m\u001b[0mvalues\u001b[0m\u001b[1;33m[\u001b[0m\u001b[1;36m0\u001b[0m\u001b[1;33m]\u001b[0m \u001b[1;33m==\u001b[0m \u001b[1;36m251\u001b[0m\u001b[1;33m)\u001b[0m \u001b[1;33m&\u001b[0m \u001b[1;33m(\u001b[0m\u001b[0mvalues\u001b[0m\u001b[1;33m[\u001b[0m\u001b[1;36m1\u001b[0m\u001b[1;33m]\u001b[0m \u001b[1;33m==\u001b[0m \u001b[1;36m175\u001b[0m\u001b[1;33m)\u001b[0m \u001b[1;33m&\u001b[0m \u001b[1;33m(\u001b[0m\u001b[0mvalues\u001b[0m\u001b[1;33m[\u001b[0m\u001b[1;36m2\u001b[0m\u001b[1;33m]\u001b[0m \u001b[1;33m==\u001b[0m \u001b[1;36m93\u001b[0m\u001b[1;33m)\u001b[0m\u001b[1;33m)\u001b[0m\u001b[1;33m:\u001b[0m\u001b[1;33m\u001b[0m\u001b[0m\n\u001b[0m\u001b[0;32m     25\u001b[0m                         \u001b[0marray\u001b[0m\u001b[1;33m.\u001b[0m\u001b[0mappend\u001b[0m\u001b[1;33m(\u001b[0m\u001b[1;36m1\u001b[0m\u001b[1;33m)\u001b[0m\u001b[1;33m\u001b[0m\u001b[0m\n\u001b[0;32m     26\u001b[0m                         \u001b[0mlarvae\u001b[0m \u001b[1;33m+=\u001b[0m \u001b[1;36m1\u001b[0m\u001b[1;33m\u001b[0m\u001b[0m\n",
      "\u001b[1;31mKeyboardInterrupt\u001b[0m: "
     ]
    }
   ],
   "source": [
    "counter = 1849\n",
    "for f in files[5:]:\n",
    "    print f\n",
    "    im_ann = mh.imread('{0}/{1}.png'.format(photos_directory, f))\n",
    "    im_org = mh.imread('{0}/{1}.pgm'.format(photos_directory, f))\n",
    "\n",
    "    if species == 'cfellah':\n",
    "        y_total, x_total = im_ann.shape[0], 2800\n",
    "    else: # species == 'leptothorax':\n",
    "        y_total, x_total = im_ann.shape[0], im_ann.shape[1]\n",
    "    \n",
    "    \n",
    "    for i in range(0, y_total-size, int(size/float(2))):\n",
    "        for j in range(0, x_total-size, int(size/float(2))):\n",
    "            larvae = 0\n",
    "            # save targets - transform into single digit classified output\n",
    "            #np.save('{0}/{1}/{2}/targets/{3}.npy'.format(training_directory, species, str(size), str(counter)), im_ann[i:i+size, j:j+size])\n",
    "            matrix = []\n",
    "            for m in range(size):\n",
    "                array = []\n",
    "                for n in range(size):\n",
    "                    values = im_ann[i:i+size, j:j+size][m][n]\n",
    "                    # larvae or pupae -- currently counted as the same\n",
    "                    if ((values[0] == 246) & (values[1] == 255) & (values[2] == 0)) | ((values[0] == 169) & (values[1] == 206) & (values[2] == 114)) | ((values[0] == 251) & (values[1] == 175) & (values[2] == 93)):\n",
    "                        array.append(1)\n",
    "                        larvae += 1\n",
    "                    else:\n",
    "                        array.append(0)\n",
    "                matrix.append(array)\n",
    "            if larvae >= 20:\n",
    "                np.save('{0}/{1}/{2}/targets/{3}.npy'.format(training_directory, species, str(size), str(counter)), np.array(matrix))\n",
    "\n",
    "                # save image\n",
    "                mh.imsave('{0}/{1}/{2}/images/{3}.pgm'.format(training_directory, species, str(size), str(counter)),\n",
    "                      im_org[i:i+size, j:j+size])\n",
    "                counter += 1"
   ]
  },
  {
   "cell_type": "markdown",
   "metadata": {},
   "source": [
    "Testing target output - keep all as equal for now"
   ]
  },
  {
   "cell_type": "code",
   "execution_count": 39,
   "metadata": {
    "collapsed": false
   },
   "outputs": [
    {
     "data": {
      "text/plain": [
       "array([[[85, 85, 85],\n",
       "        [89, 89, 89],\n",
       "        [90, 90, 90],\n",
       "        ..., \n",
       "        [86, 86, 86],\n",
       "        [83, 83, 83],\n",
       "        [81, 81, 81]],\n",
       "\n",
       "       [[87, 87, 87],\n",
       "        [85, 85, 85],\n",
       "        [85, 85, 85],\n",
       "        ..., \n",
       "        [94, 94, 94],\n",
       "        [83, 83, 83],\n",
       "        [83, 83, 83]],\n",
       "\n",
       "       [[85, 85, 85],\n",
       "        [87, 87, 87],\n",
       "        [84, 84, 84],\n",
       "        ..., \n",
       "        [83, 83, 83],\n",
       "        [85, 85, 85],\n",
       "        [84, 84, 84]],\n",
       "\n",
       "       ..., \n",
       "       [[85, 85, 85],\n",
       "        [84, 84, 84],\n",
       "        [85, 85, 85],\n",
       "        ..., \n",
       "        [85, 85, 85],\n",
       "        [84, 84, 84],\n",
       "        [86, 86, 86]],\n",
       "\n",
       "       [[85, 85, 85],\n",
       "        [86, 86, 86],\n",
       "        [87, 87, 87],\n",
       "        ..., \n",
       "        [85, 85, 85],\n",
       "        [85, 85, 85],\n",
       "        [85, 85, 85]],\n",
       "\n",
       "       [[86, 86, 86],\n",
       "        [85, 85, 85],\n",
       "        [85, 85, 85],\n",
       "        ..., \n",
       "        [82, 82, 82],\n",
       "        [85, 85, 85],\n",
       "        [91, 91, 91]]], dtype=uint8)"
      ]
     },
     "execution_count": 39,
     "metadata": {},
     "output_type": "execute_result"
    }
   ],
   "source": [
    "im_ann[i:i+size, j:j+size]"
   ]
  },
  {
   "cell_type": "code",
   "execution_count": 40,
   "metadata": {
    "collapsed": true
   },
   "outputs": [],
   "source": [
    "matrix = []\n",
    "for m in range(size):\n",
    "    array = []\n",
    "    for n in range(size):\n",
    "        values = im_ann[i:i+size, j:j+size][m][n]\n",
    "        # larvae or pupae -- currently counted as the same\n",
    "        if ((values[0] == 246) & (values[1] == 255) & (values[2] == 0)) | ((values[0] == 169) & (values[1] == 206) & (values[2] == 114)) | ((values[0] == 251) & (values[1] == 175) & (values[2] == 93)):\n",
    "            array.append(1)\n",
    "        else:\n",
    "            array.append(0)\n",
    "    matrix.append(array)"
   ]
  },
  {
   "cell_type": "code",
   "execution_count": 42,
   "metadata": {
    "collapsed": false
   },
   "outputs": [
    {
     "data": {
      "text/plain": [
       "array([[0, 0, 0, ..., 0, 0, 0],\n",
       "       [0, 0, 0, ..., 0, 0, 0],\n",
       "       [0, 0, 0, ..., 0, 0, 0],\n",
       "       ..., \n",
       "       [0, 0, 0, ..., 0, 0, 0],\n",
       "       [0, 0, 0, ..., 0, 0, 0],\n",
       "       [0, 0, 0, ..., 0, 0, 0]])"
      ]
     },
     "execution_count": 42,
     "metadata": {},
     "output_type": "execute_result"
    }
   ],
   "source": [
    "np.array(matrix)"
   ]
  },
  {
   "cell_type": "code",
   "execution_count": null,
   "metadata": {
    "collapsed": true
   },
   "outputs": [],
   "source": []
  },
  {
   "cell_type": "markdown",
   "metadata": {},
   "source": [
    "Pixels per image size"
   ]
  },
  {
   "cell_type": "code",
   "execution_count": 7,
   "metadata": {
    "collapsed": false
   },
   "outputs": [
    {
     "data": {
      "text/plain": [
       "90000"
      ]
     },
     "execution_count": 7,
     "metadata": {},
     "output_type": "execute_result"
    }
   ],
   "source": [
    "300*300"
   ]
  },
  {
   "cell_type": "code",
   "execution_count": 6,
   "metadata": {
    "collapsed": false
   },
   "outputs": [
    {
     "data": {
      "text/plain": [
       "10000"
      ]
     },
     "execution_count": 6,
     "metadata": {},
     "output_type": "execute_result"
    }
   ],
   "source": [
    "100*100"
   ]
  },
  {
   "cell_type": "markdown",
   "metadata": {
    "collapsed": true
   },
   "source": [
    "###Cluster script"
   ]
  },
  {
   "cell_type": "code",
   "execution_count": 13,
   "metadata": {
    "collapsed": true
   },
   "outputs": [],
   "source": [
    "def create_cluster_script():\n",
    "    \n",
    "    new_script_file = '/cellar/users/ramarty/Projects/ants/scripts/cluster/version3.0/create_training.sh'\n",
    "    \n",
    "    with open(new_script_file, 'w') as out_file:\n",
    "        out_file.write(\"#! /bin/csh\\n\")\n",
    "        out_file.write(\"#$ -V\\n\")\n",
    "        out_file.write(\"#$ -S /bin/csh\\n\")\n",
    "        out_file.write(\"#$ -o /cellar/users/ramarty/Data/ants/sge-system_files/\\n\")\n",
    "        out_file.write(\"#$ -e /cellar/users/ramarty/Data/ants/sge-system_files/\\n\")\n",
    "        out_file.write(\"#$ -cwd\\n\")\n",
    "        out_file.write(\"#$ -l h_vmem=1G\\n\")\n",
    "        out_file.write(\"#$ -l long\")\n",
    "        out_file.write(\"\\n\")\n",
    "\n",
    "        out_file.write(\"date\\n\")\n",
    "        out_file.write(\"hostname\\n\")\n",
    "        out_file.write(\"python /cellar/users/ramarty/Projects/ants/scripts/python/version3.0/create_training.py\\n\")\n",
    "        out_file.write(\"date\\n\")"
   ]
  },
  {
   "cell_type": "code",
   "execution_count": 14,
   "metadata": {
    "collapsed": true
   },
   "outputs": [],
   "source": [
    "create_cluster_script()"
   ]
  },
  {
   "cell_type": "code",
   "execution_count": null,
   "metadata": {
    "collapsed": true
   },
   "outputs": [],
   "source": []
  }
 ],
 "metadata": {
  "kernelspec": {
   "display_name": "Python 2",
   "language": "python",
   "name": "python2"
  },
  "language_info": {
   "codemirror_mode": {
    "name": "ipython",
    "version": 2
   },
   "file_extension": ".py",
   "mimetype": "text/x-python",
   "name": "python",
   "nbconvert_exporter": "python",
   "pygments_lexer": "ipython2",
   "version": "2.7.12"
  }
 },
 "nbformat": 4,
 "nbformat_minor": 0
}
