{
 "cells": [
  {
   "cell_type": "code",
   "execution_count": 1,
   "metadata": {
    "collapsed": false
   },
   "outputs": [
    {
     "data": {
      "text/plain": [
       "<matplotlib.figure.Figure at 0x7fef185ee790>"
      ]
     },
     "metadata": {},
     "output_type": "display_data"
    }
   ],
   "source": [
    "import os\n",
    "import mahotas as mh\n",
    "import numpy as np\n",
    "from matplotlib import pyplot as plt\n",
    "import pandas as pd\n",
    "%matplotlib inline\n",
    "plt.rcParams['figure.figsize'] = (10.0, 8.0) # 10 x 8 inches\n",
    "plt.gray()"
   ]
  },
  {
   "cell_type": "markdown",
   "metadata": {},
   "source": [
    "Create training and testing sets from small sections of the original photos"
   ]
  },
  {
   "cell_type": "code",
   "execution_count": 2,
   "metadata": {
    "collapsed": true
   },
   "outputs": [],
   "source": [
    "df = pd.read_csv('/cellar/users/ramarty/Data/ants/data/classified_photos.csv', index_col=0)"
   ]
  },
  {
   "cell_type": "code",
   "execution_count": 3,
   "metadata": {
    "collapsed": false,
    "scrolled": true
   },
   "outputs": [
    {
     "data": {
      "text/html": [
       "<div>\n",
       "<table border=\"1\" class=\"dataframe\">\n",
       "  <thead>\n",
       "    <tr style=\"text-align: right;\">\n",
       "      <th></th>\n",
       "      <th>file_name</th>\n",
       "      <th>id</th>\n",
       "      <th>classification</th>\n",
       "      <th>boundaries</th>\n",
       "    </tr>\n",
       "  </thead>\n",
       "  <tbody>\n",
       "    <tr>\n",
       "      <th>0</th>\n",
       "      <td>box31-20161208-1723-00006810.pgm</td>\n",
       "      <td>6810</td>\n",
       "      <td>other</td>\n",
       "      <td>[1000, 2700, 800, 2200]</td>\n",
       "    </tr>\n",
       "    <tr>\n",
       "      <th>1</th>\n",
       "      <td>box31-20161208-1751-00010170.pgm</td>\n",
       "      <td>10170</td>\n",
       "      <td>other</td>\n",
       "      <td>[1000, 2700, 800, 2200]</td>\n",
       "    </tr>\n",
       "    <tr>\n",
       "      <th>2</th>\n",
       "      <td>box31-20161208-1656-00003600.pgm</td>\n",
       "      <td>3600</td>\n",
       "      <td>brood</td>\n",
       "      <td>[1540, 2100, 1180, 1640]</td>\n",
       "    </tr>\n",
       "    <tr>\n",
       "      <th>4</th>\n",
       "      <td>box31-20161208-1656-00003510.pgm</td>\n",
       "      <td>3510</td>\n",
       "      <td>brood</td>\n",
       "      <td>[1540, 2100, 1180, 1640]</td>\n",
       "    </tr>\n",
       "    <tr>\n",
       "      <th>6</th>\n",
       "      <td>box31-20161208-1633-00000750.pgm</td>\n",
       "      <td>750</td>\n",
       "      <td>brood</td>\n",
       "      <td>[1540, 2100, 1180, 1640]</td>\n",
       "    </tr>\n",
       "  </tbody>\n",
       "</table>\n",
       "</div>"
      ],
      "text/plain": [
       "                          file_name     id classification  \\\n",
       "0  box31-20161208-1723-00006810.pgm   6810          other   \n",
       "1  box31-20161208-1751-00010170.pgm  10170          other   \n",
       "2  box31-20161208-1656-00003600.pgm   3600          brood   \n",
       "4  box31-20161208-1656-00003510.pgm   3510          brood   \n",
       "6  box31-20161208-1633-00000750.pgm    750          brood   \n",
       "\n",
       "                 boundaries  \n",
       "0   [1000, 2700, 800, 2200]  \n",
       "1   [1000, 2700, 800, 2200]  \n",
       "2  [1540, 2100, 1180, 1640]  \n",
       "4  [1540, 2100, 1180, 1640]  \n",
       "6  [1540, 2100, 1180, 1640]  "
      ]
     },
     "execution_count": 3,
     "metadata": {},
     "output_type": "execute_result"
    }
   ],
   "source": [
    "df.head()"
   ]
  },
  {
   "cell_type": "code",
   "execution_count": 4,
   "metadata": {
    "collapsed": true
   },
   "outputs": [],
   "source": [
    "brood = df.classification == 'brood'"
   ]
  },
  {
   "cell_type": "code",
   "execution_count": 5,
   "metadata": {
    "collapsed": true
   },
   "outputs": [],
   "source": [
    "# input and output\n",
    "# image = mh.imread('file.png')\n",
    "# mh.imsave('copy.png', image)"
   ]
  },
  {
   "cell_type": "markdown",
   "metadata": {},
   "source": [
    "Brood set"
   ]
  },
  {
   "cell_type": "code",
   "execution_count": 6,
   "metadata": {
    "collapsed": false
   },
   "outputs": [
    {
     "data": {
      "text/plain": [
       "'box31-20161208-1656-00003600.pgm'"
      ]
     },
     "execution_count": 6,
     "metadata": {},
     "output_type": "execute_result"
    }
   ],
   "source": [
    "list(df[brood].file_name)[0]"
   ]
  },
  {
   "cell_type": "code",
   "execution_count": 7,
   "metadata": {
    "collapsed": false
   },
   "outputs": [
    {
     "name": "stdout",
     "output_type": "stream",
     "text": [
      "207\n",
      "121\n"
     ]
    }
   ],
   "source": [
    "print len(df[brood])\n",
    "print len(df[~brood])"
   ]
  },
  {
   "cell_type": "markdown",
   "metadata": {},
   "source": [
    "100x100, with steps of 20"
   ]
  },
  {
   "cell_type": "code",
   "execution_count": 8,
   "metadata": {
    "collapsed": false,
    "scrolled": true
   },
   "outputs": [
    {
     "name": "stdout",
     "output_type": "stream",
     "text": [
      "box31-20161208-1656-00003600.pgm\n",
      "box31-20161208-1656-00003510.pgm\n",
      "box31-20161208-1633-00000750.pgm\n",
      "box31-20161208-1706-00004710.pgm\n",
      "box31-20161208-1708-00005040.pgm\n",
      "100\n",
      "box31-20161208-1644-00002160.pgm\n",
      "box31-20161208-1642-00001830.pgm\n",
      "box31-20161208-1648-00002610.pgm\n",
      "box31-20161208-1710-00005220.pgm\n",
      "box31-20161208-1711-00005400.pgm\n",
      "200\n",
      "box31-20161208-1633-00000840.pgm\n",
      "box31-20161208-1706-00004800.pgm\n",
      "box31-20161208-1639-00001470.pgm\n",
      "box31-20161208-1716-00005940.pgm\n",
      "box31-20161208-1627-00000090.pgm\n",
      "300\n",
      "box31-20161208-1715-00005790.pgm\n",
      "box31-20161208-1654-00003330.pgm\n",
      "box31-20161208-1718-00006180.pgm\n",
      "box31-20161208-1658-00003750.pgm\n",
      "box31-20161208-1632-00000690.pgm\n",
      "400\n",
      "box31-20161208-1702-00004320.pgm\n",
      "box31-20161208-1717-00006090.pgm\n",
      "box31-20161208-1634-00000900.pgm\n",
      "box31-20161208-1713-00005580.pgm\n",
      "box31-20161208-1715-00005880.pgm\n",
      "500\n",
      "box31-20161208-1652-00003120.pgm\n",
      "box31-20161208-1658-00003840.pgm\n",
      "box31-20161208-1635-00001050.pgm\n",
      "box31-20161208-1628-00000180.pgm\n",
      "box31-20161208-1659-00003900.pgm\n",
      "600\n",
      "box31-20161208-1655-00003450.pgm\n",
      "box31-20161208-1654-00003270.pgm\n",
      "box31-20161208-1648-00002580.pgm\n",
      "box31-20161208-1705-00004650.pgm\n",
      "box31-20161208-1651-00002970.pgm\n",
      "700\n",
      "box31-20161208-1630-00000480.pgm\n",
      "box31-20161208-1647-00002490.pgm\n",
      "box31-20161208-1638-00001350.pgm\n",
      "box31-20161208-1652-00003060.pgm\n",
      "box31-20161208-1703-00004440.pgm\n",
      "800\n",
      "box31-20161208-1702-00004260.pgm\n",
      "box31-20161208-1628-00000210.pgm\n",
      "box31-20161208-1713-00005610.pgm\n",
      "box31-20161208-1646-00002370.pgm\n",
      "box31-20161208-1639-00001530.pgm\n",
      "900\n",
      "box31-20161208-1704-00004500.pgm\n",
      "box31-20161208-1636-00001200.pgm\n",
      "box31-20161208-1718-00006210.pgm\n",
      "box31-20161208-1631-00000540.pgm\n",
      "box31-20161208-1640-00001620.pgm\n",
      "1000\n",
      "box31-20161208-1709-00005100.pgm\n",
      "box31-20161208-1701-00004170.pgm\n",
      "box31-20161208-1636-00001110.pgm\n",
      "box31-20161208-1713-00005640.pgm\n",
      "box31-20161208-1628-00000150.pgm\n",
      "1100\n",
      "box31-20161208-1635-00001080.pgm\n",
      "box31-20161208-1649-00002700.pgm\n",
      "box31-20161208-1628-00000240.pgm\n",
      "box31-20161208-1657-00003690.pgm\n",
      "box31-20161208-1708-00004980.pgm\n",
      "1200\n",
      "box31-20161208-1713-00005550.pgm\n",
      "box31-20161208-1715-00005850.pgm\n",
      "box31-20161208-1642-00001920.pgm\n",
      "box31-20161208-1631-00000600.pgm\n",
      "box31-20161208-1718-00006150.pgm\n",
      "1300\n",
      "box31-20161208-1636-00001140.pgm\n",
      "box31-20161208-1644-00002070.pgm\n",
      "box31-20161208-1658-00003780.pgm\n",
      "box31-20161208-1639-00001560.pgm\n",
      "box31-20161208-1631-00000510.pgm\n",
      "1400\n",
      "box31-20161208-1718-00006240.pgm\n",
      "box31-20161208-1711-00005370.pgm\n",
      "box31-20161208-1712-00005490.pgm\n",
      "box31-20161208-1714-00005700.pgm\n",
      "box31-20161208-1652-00003030.pgm\n",
      "1500\n",
      "box31-20161208-1633-00000780.pgm\n",
      "box31-20161208-1703-00004410.pgm\n",
      "box31-20161208-1702-00004230.pgm\n",
      "box31-20161208-1716-00006000.pgm\n",
      "box31-20161208-1635-00000990.pgm\n",
      "1600\n",
      "box31-20161208-1641-00001770.pgm\n",
      "box31-20161208-1700-00004020.pgm\n",
      "box31-20161208-1654-00003360.pgm\n",
      "box31-20161208-1716-00005910.pgm\n",
      "box31-20161208-1658-00003810.pgm\n",
      "1700\n",
      "box31-20161208-1646-00002400.pgm\n",
      "box31-20161208-1656-00003540.pgm\n",
      "box31-20161208-1638-00001380.pgm\n",
      "box31-20161208-1706-00004740.pgm\n",
      "box31-20161208-1719-00006300.pgm\n",
      "1800\n",
      "box31-20161208-1630-00000450.pgm\n",
      "box31-20161208-1645-00002220.pgm\n",
      "box31-20161208-1633-00000810.pgm\n",
      "box31-20161208-1648-00002550.pgm\n",
      "box31-20161208-1655-00003480.pgm\n",
      "1900\n",
      "box31-20161208-1705-00004680.pgm\n",
      "box31-20161208-1637-00001290.pgm\n",
      "box31-20161208-1705-00004590.pgm\n",
      "box31-20161208-1644-00002130.pgm\n",
      "box31-20161208-1650-00002820.pgm\n",
      "2000\n"
     ]
    }
   ],
   "source": [
    "# start with a single photo\n",
    "counter = 0\n",
    "for f, b in zip(df[brood].file_name[:100], df[brood].boundaries[:100]):\n",
    "    print f\n",
    "    im = mh.imread('/cellar/users/ramarty/Data/ants/photos/' + f)\n",
    "    y1, y2, x1, x2 = [int(x) for x in b[1:-1].split(',')]\n",
    "    # cycle through photo\n",
    "    y_total, x_total = im[y1:y2, x1:x2].shape\n",
    "    for i in range(0, y_total-100, 100):\n",
    "        for j in range(0, x_total-100, 100):\n",
    "            mh.imsave('/cellar/users/ramarty/Data/ants/training/brood.{0}.png'.format(str(counter)), \n",
    "                      im[y1+i:y1+i+100, x1+j:x1+j+100])\n",
    "            #plt.imshow(im[y1+i:y1+i+100, x1+j:x1+j+100])\n",
    "            counter += 1\n",
    "            if counter % 100 == 0:\n",
    "                print counter"
   ]
  },
  {
   "cell_type": "code",
   "execution_count": 9,
   "metadata": {
    "collapsed": false,
    "scrolled": false
   },
   "outputs": [
    {
     "name": "stdout",
     "output_type": "stream",
     "text": [
      "box31-20161208-1723-00006810.pgm\n",
      "box31-20161208-1751-00010170.pgm\n",
      "box31-20161208-1728-00007380.pgm\n",
      "box31-20161208-1743-00009150.pgm\n",
      "box31-20161208-1732-00007890.pgm\n",
      "1000\n",
      "box31-20161208-1743-00009240.pgm\n",
      "box31-20161208-1752-00010260.pgm\n",
      "box31-20161208-1737-00008490.pgm\n",
      "box31-20161208-1744-00009300.pgm\n",
      "box31-20161208-1749-00009870.pgm\n",
      "2000\n",
      "box31-20161208-1738-00008580.pgm\n",
      "box31-20161208-1742-00009090.pgm\n",
      "box31-20161208-1733-00007950.pgm\n",
      "box31-20161208-1723-00006780.pgm\n",
      "box31-20161208-1725-00006990.pgm\n",
      "3000\n",
      "box31-20161208-1752-00010320.pgm\n",
      "box31-20161208-1741-00008940.pgm\n",
      "box31-20161208-1731-00007740.pgm\n",
      "box31-20161208-1749-00009930.pgm\n",
      "box31-20161208-1721-00006600.pgm\n",
      "4000\n",
      "box31-20161208-1726-00007140.pgm\n",
      "box31-20161208-1729-00007560.pgm\n",
      "box31-20161208-1738-00008610.pgm\n",
      "box31-20161208-1740-00008790.pgm\n",
      "box31-20161208-1734-00008160.pgm\n",
      "5000\n",
      "box31-20161208-1721-00006510.pgm\n",
      "box31-20161208-1730-00007590.pgm\n",
      "box31-20161208-1745-00009420.pgm\n",
      "box31-20161208-1725-00007080.pgm\n",
      "6000\n",
      "box31-20161208-1740-00008880.pgm\n",
      "box31-20161208-1730-00007680.pgm\n",
      "box31-20161208-1729-00007530.pgm\n",
      "box31-20161208-1733-00007980.pgm\n",
      "box31-20161208-1738-00008640.pgm\n",
      "7000\n",
      "box31-20161208-1726-00007200.pgm\n",
      "box31-20161208-1721-00006540.pgm\n",
      "box31-20161208-1734-00008130.pgm\n",
      "box31-20161208-1741-00009000.pgm\n",
      "box31-20161208-1738-00008550.pgm\n",
      "8000\n",
      "box31-20161208-1726-00007110.pgm\n",
      "box31-20161208-1735-00008220.pgm\n",
      "box31-20161208-1731-00007800.pgm\n",
      "box31-20161208-1736-00008400.pgm\n",
      "box31-20161208-1728-00007350.pgm\n",
      "9000\n",
      "box31-20161208-1743-00009180.pgm\n",
      "box31-20161208-1750-00009990.pgm\n",
      "box31-20161208-1731-00007710.pgm\n",
      "box31-20161208-1741-00008910.pgm\n",
      "box31-20161208-1750-00010020.pgm\n",
      "10000\n",
      "box31-20161208-1749-00009960.pgm\n",
      "box31-20161208-1745-00009390.pgm\n",
      "box31-20161208-1724-00006900.pgm\n",
      "box31-20161208-1730-00007650.pgm\n",
      "11000\n",
      "box31-20161208-1752-00010230.pgm\n",
      "box31-20161208-1725-00007050.pgm\n",
      "box31-20161208-1722-00006690.pgm\n",
      "box31-20161208-1734-00008070.pgm\n",
      "box31-20161208-1723-00006840.pgm\n",
      "12000\n",
      "box31-20161208-1729-00007470.pgm\n",
      "box31-20161208-1743-00009210.pgm\n",
      "box31-20161208-1739-00008700.pgm\n",
      "box31-20161208-1746-00009570.pgm\n",
      "box31-20161208-1723-00006750.pgm\n",
      "13000\n",
      "box31-20161208-1733-00008010.pgm\n",
      "box31-20161208-1742-00009060.pgm\n",
      "box31-20161208-1722-00006630.pgm\n",
      "box31-20161208-1737-00008460.pgm\n",
      "box31-20161208-1745-00009450.pgm\n",
      "14000\n",
      "box31-20161208-1749-00009900.pgm\n",
      "box31-20161208-1744-00009270.pgm\n",
      "box31-20161208-1741-00008970.pgm\n",
      "box31-20161208-1752-00010290.pgm\n",
      "box31-20161208-1731-00007770.pgm\n",
      "15000\n",
      "box31-20161208-1726-00007170.pgm\n",
      "box31-20161208-1732-00007860.pgm\n",
      "box31-20161208-1727-00007260.pgm\n",
      "box31-20161208-1753-00010350.pgm\n",
      "16000\n",
      "box31-20161208-1735-00008280.pgm\n",
      "box31-20161208-1719-00006360.pgm\n",
      "box31-20161208-1751-00010140.pgm\n",
      "box31-20161208-1735-00008190.pgm\n",
      "box31-20161208-1732-00007920.pgm\n",
      "17000\n",
      "box31-20161208-1746-00009600.pgm\n",
      "box31-20161208-1746-00009510.pgm\n",
      "box31-20161208-1739-00008760.pgm\n",
      "box31-20161208-1728-00007410.pgm\n",
      "box31-20161208-1727-00007320.pgm\n",
      "18000\n",
      "box31-20161208-1750-00010080.pgm\n",
      "box31-20161208-1742-00009120.pgm\n",
      "box31-20161208-1724-00006960.pgm\n",
      "box31-20161208-1748-00009840.pgm\n",
      "box31-20161208-1744-00009330.pgm\n",
      "19000\n",
      "box31-20161208-1737-00008520.pgm\n",
      "box31-20161208-1724-00006930.pgm\n",
      "box31-20161208-1748-00009810.pgm\n",
      "box31-20161208-1722-00006720.pgm\n",
      "box31-20161208-1744-00009360.pgm\n",
      "20000\n",
      "box31-20161208-1751-00010200.pgm\n",
      "box31-20161208-1745-00009480.pgm\n",
      "box31-20161208-1725-00007020.pgm\n"
     ]
    }
   ],
   "source": [
    "counter = 0\n",
    "for f, b in zip(df[~brood].file_name[:100], df[~brood].boundaries[:100]):\n",
    "    im = mh.imread('/cellar/users/ramarty/Data/ants/photos/' + f)\n",
    "    print f\n",
    "    y1, y2, x1, x2 = [int(x) for x in b[1:-1].split(',')]\n",
    "    # cycle through photo\n",
    "    y_total, x_total = im[y1:y2, x1:x2].shape\n",
    "    for i in range(0, y_total-100, 100):\n",
    "        for j in range(0, x_total-100, 100):\n",
    "            mh.imsave('/cellar/users/ramarty/Data/ants/training/other.{0}.png'.format(str(counter)), \n",
    "                      im[y1+i:y1+i+100, x1+j:x1+j+100])\n",
    "            #plt.imshow(im[y1+i:y1+i+100, x1+j:x1+j+100])\n",
    "            counter += 1\n",
    "            if counter % 1000 == 0:\n",
    "                print counter"
   ]
  },
  {
   "cell_type": "code",
   "execution_count": null,
   "metadata": {
    "collapsed": true
   },
   "outputs": [],
   "source": []
  },
  {
   "cell_type": "markdown",
   "metadata": {},
   "source": [
    "Other set"
   ]
  },
  {
   "cell_type": "code",
   "execution_count": null,
   "metadata": {
    "collapsed": true
   },
   "outputs": [],
   "source": []
  },
  {
   "cell_type": "code",
   "execution_count": null,
   "metadata": {
    "collapsed": true
   },
   "outputs": [],
   "source": []
  },
  {
   "cell_type": "code",
   "execution_count": null,
   "metadata": {
    "collapsed": true
   },
   "outputs": [],
   "source": []
  }
 ],
 "metadata": {
  "kernelspec": {
   "display_name": "Python 2",
   "language": "python",
   "name": "python2"
  },
  "language_info": {
   "codemirror_mode": {
    "name": "ipython",
    "version": 2
   },
   "file_extension": ".py",
   "mimetype": "text/x-python",
   "name": "python",
   "nbconvert_exporter": "python",
   "pygments_lexer": "ipython2",
   "version": "2.7.12"
  }
 },
 "nbformat": 4,
 "nbformat_minor": 0
}
