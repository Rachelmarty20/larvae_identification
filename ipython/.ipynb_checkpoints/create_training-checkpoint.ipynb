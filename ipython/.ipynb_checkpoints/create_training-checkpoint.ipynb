{
 "cells": [
  {
   "cell_type": "code",
   "execution_count": 1,
   "metadata": {
    "collapsed": false
   },
   "outputs": [
    {
     "data": {
      "text/plain": [
       "<matplotlib.figure.Figure at 0x7f8e598d7b10>"
      ]
     },
     "metadata": {},
     "output_type": "display_data"
    }
   ],
   "source": [
    "import os\n",
    "import mahotas as mh\n",
    "import numpy as np\n",
    "from matplotlib import pyplot as plt\n",
    "import pandas as pd\n",
    "%matplotlib inline\n",
    "plt.rcParams['figure.figsize'] = (10.0, 8.0) # 10 x 8 inches\n",
    "plt.gray()"
   ]
  },
  {
   "cell_type": "markdown",
   "metadata": {},
   "source": [
    "Create training and testing sets from small sections of the original photos"
   ]
  },
  {
   "cell_type": "code",
   "execution_count": 2,
   "metadata": {
    "collapsed": true
   },
   "outputs": [],
   "source": [
    "df = pd.read_csv('/cellar/users/ramarty/Data/ants/data/classified_photos.csv', index_col=0)"
   ]
  },
  {
   "cell_type": "code",
   "execution_count": 3,
   "metadata": {
    "collapsed": false
   },
   "outputs": [
    {
     "data": {
      "text/html": [
       "<div>\n",
       "<table border=\"1\" class=\"dataframe\">\n",
       "  <thead>\n",
       "    <tr style=\"text-align: right;\">\n",
       "      <th></th>\n",
       "      <th>file_name</th>\n",
       "      <th>id</th>\n",
       "      <th>classification</th>\n",
       "      <th>boundaries</th>\n",
       "    </tr>\n",
       "  </thead>\n",
       "  <tbody>\n",
       "    <tr>\n",
       "      <th>0</th>\n",
       "      <td>box31-20161208-1723-00006810.pgm</td>\n",
       "      <td>6810</td>\n",
       "      <td>other</td>\n",
       "      <td>[1170, 2550, 900, 2050]</td>\n",
       "    </tr>\n",
       "    <tr>\n",
       "      <th>1</th>\n",
       "      <td>box31-20161208-1751-00010170.pgm</td>\n",
       "      <td>10170</td>\n",
       "      <td>other</td>\n",
       "      <td>[1170, 2550, 900, 2050]</td>\n",
       "    </tr>\n",
       "    <tr>\n",
       "      <th>2</th>\n",
       "      <td>box31-20161208-1656-00003600.pgm</td>\n",
       "      <td>3600</td>\n",
       "      <td>brood</td>\n",
       "      <td>[1540, 2130, 1160, 1640]</td>\n",
       "    </tr>\n",
       "    <tr>\n",
       "      <th>4</th>\n",
       "      <td>box31-20161208-1656-00003510.pgm</td>\n",
       "      <td>3510</td>\n",
       "      <td>brood</td>\n",
       "      <td>[1540, 2130, 1160, 1640]</td>\n",
       "    </tr>\n",
       "    <tr>\n",
       "      <th>6</th>\n",
       "      <td>box31-20161208-1633-00000750.pgm</td>\n",
       "      <td>750</td>\n",
       "      <td>brood</td>\n",
       "      <td>[1540, 2130, 1160, 1640]</td>\n",
       "    </tr>\n",
       "  </tbody>\n",
       "</table>\n",
       "</div>"
      ],
      "text/plain": [
       "                          file_name     id classification  \\\n",
       "0  box31-20161208-1723-00006810.pgm   6810          other   \n",
       "1  box31-20161208-1751-00010170.pgm  10170          other   \n",
       "2  box31-20161208-1656-00003600.pgm   3600          brood   \n",
       "4  box31-20161208-1656-00003510.pgm   3510          brood   \n",
       "6  box31-20161208-1633-00000750.pgm    750          brood   \n",
       "\n",
       "                 boundaries  \n",
       "0   [1170, 2550, 900, 2050]  \n",
       "1   [1170, 2550, 900, 2050]  \n",
       "2  [1540, 2130, 1160, 1640]  \n",
       "4  [1540, 2130, 1160, 1640]  \n",
       "6  [1540, 2130, 1160, 1640]  "
      ]
     },
     "execution_count": 3,
     "metadata": {},
     "output_type": "execute_result"
    }
   ],
   "source": [
    "df.head()"
   ]
  },
  {
   "cell_type": "code",
   "execution_count": 7,
   "metadata": {
    "collapsed": true
   },
   "outputs": [],
   "source": [
    "brood = df.classification == 'brood'"
   ]
  },
  {
   "cell_type": "code",
   "execution_count": null,
   "metadata": {
    "collapsed": true
   },
   "outputs": [],
   "source": [
    "# input and output\n",
    "# image = mh.imread('file.png')\n",
    "# mh.imsave('copy.png', image)"
   ]
  },
  {
   "cell_type": "markdown",
   "metadata": {},
   "source": [
    "Brood set"
   ]
  },
  {
   "cell_type": "code",
   "execution_count": 11,
   "metadata": {
    "collapsed": false
   },
   "outputs": [
    {
     "data": {
      "text/plain": [
       "'box31-20161208-1656-00003600.pgm'"
      ]
     },
     "execution_count": 11,
     "metadata": {},
     "output_type": "execute_result"
    }
   ],
   "source": [
    "list(df[brood].file_name)[0]"
   ]
  },
  {
   "cell_type": "code",
   "execution_count": 22,
   "metadata": {
    "collapsed": false
   },
   "outputs": [
    {
     "name": "stdout",
     "output_type": "stream",
     "text": [
      "(590, 480)\n",
      "(590, 480)\n",
      "(590, 480)\n",
      "(590, 480)\n",
      "(590, 480)\n",
      "(590, 480)\n",
      "(590, 480)\n",
      "(590, 480)\n",
      "(590, 480)\n",
      "(590, 480)\n"
     ]
    }
   ],
   "source": [
    "# start with a single photo\n",
    "for f, b in zip(df[brood].file_name[:10], df[brood].boundaries[:10]):\n",
    "    im = mh.imread('/cellar/users/ramarty/Data/ants/photos/' + f)\n",
    "    y1, y2, x1, x2 = [int(x) for x in b[1:-1].split(',')]\n",
    "    # cycle through photo\n",
    "    print im[y1:y2, x1:x2].shape"
   ]
  },
  {
   "cell_type": "code",
   "execution_count": null,
   "metadata": {
    "collapsed": true
   },
   "outputs": [],
   "source": []
  },
  {
   "cell_type": "code",
   "execution_count": null,
   "metadata": {
    "collapsed": true
   },
   "outputs": [],
   "source": []
  },
  {
   "cell_type": "markdown",
   "metadata": {},
   "source": [
    "Other set"
   ]
  },
  {
   "cell_type": "code",
   "execution_count": null,
   "metadata": {
    "collapsed": true
   },
   "outputs": [],
   "source": []
  },
  {
   "cell_type": "code",
   "execution_count": null,
   "metadata": {
    "collapsed": true
   },
   "outputs": [],
   "source": []
  },
  {
   "cell_type": "code",
   "execution_count": null,
   "metadata": {
    "collapsed": true
   },
   "outputs": [],
   "source": []
  }
 ],
 "metadata": {
  "kernelspec": {
   "display_name": "Python 2",
   "language": "python",
   "name": "python2"
  },
  "language_info": {
   "codemirror_mode": {
    "name": "ipython",
    "version": 2
   },
   "file_extension": ".py",
   "mimetype": "text/x-python",
   "name": "python",
   "nbconvert_exporter": "python",
   "pygments_lexer": "ipython2",
   "version": "2.7.12"
  }
 },
 "nbformat": 4,
 "nbformat_minor": 0
}
