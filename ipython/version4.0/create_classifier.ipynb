{
 "cells": [
  {
   "cell_type": "code",
   "execution_count": 1,
   "metadata": {
    "collapsed": false,
    "scrolled": true
   },
   "outputs": [
    {
     "name": "stderr",
     "output_type": "stream",
     "text": [
      ":0: FutureWarning: IPython widgets are experimental and may change in the future.\n"
     ]
    },
    {
     "data": {
      "text/plain": [
       "<matplotlib.figure.Figure at 0x7f35b16d7dd0>"
      ]
     },
     "metadata": {},
     "output_type": "display_data"
    }
   ],
   "source": [
    "import os\n",
    "import mahotas as mh\n",
    "import numpy as np\n",
    "from matplotlib import pyplot as plt\n",
    "import seaborn as sns\n",
    "from IPython.html.widgets import interact, fixed\n",
    "import pandas as pd\n",
    "%matplotlib inline\n",
    "plt.rcParams['figure.figsize'] = (10.0, 8.0) # 10 x 8 inches\n",
    "plt.gray()"
   ]
  },
  {
   "cell_type": "code",
   "execution_count": 2,
   "metadata": {
    "collapsed": false
   },
   "outputs": [
    {
     "name": "stderr",
     "output_type": "stream",
     "text": [
      "Using TensorFlow backend.\n"
     ]
    }
   ],
   "source": [
    "import numpy as np\n",
    "import keras\n",
    "from keras.models import Sequential\n",
    "from keras.layers import Dense, Dropout, Flatten\n",
    "from keras.layers import Conv2D, MaxPooling2D\n",
    "from keras.layers import Conv2D\n",
    "from keras.optimizers import SGD\n",
    "from keras import metrics\n",
    "import PIL.Image as Image\n",
    "from sklearn.model_selection import train_test_split"
   ]
  },
  {
   "cell_type": "code",
   "execution_count": 3,
   "metadata": {
    "collapsed": true
   },
   "outputs": [],
   "source": [
    "import warnings\n",
    "warnings.filterwarnings('ignore')"
   ]
  },
  {
   "cell_type": "markdown",
   "metadata": {},
   "source": [
    "####Tutorial"
   ]
  },
  {
   "cell_type": "code",
   "execution_count": 64,
   "metadata": {
    "collapsed": true
   },
   "outputs": [],
   "source": [
    "# Generate dummy data\n",
    "x_train = np.random.random((100, 100, 100, 1))\n",
    "y_train = keras.utils.to_categorical(np.random.randint(1, size=(100, 1)), num_classes=2)\n",
    "x_test = np.random.random((20, 100, 100, 1))\n",
    "y_test = keras.utils.to_categorical(np.random.randint(1, size=(20, 1)), num_classes=2)"
   ]
  },
  {
   "cell_type": "code",
   "execution_count": 65,
   "metadata": {
    "collapsed": false,
    "scrolled": true
   },
   "outputs": [
    {
     "data": {
      "text/plain": [
       "(100, 100, 1)"
      ]
     },
     "execution_count": 65,
     "metadata": {},
     "output_type": "execute_result"
    }
   ],
   "source": [
    "x_train[0].shape"
   ]
  },
  {
   "cell_type": "code",
   "execution_count": 108,
   "metadata": {
    "collapsed": false
   },
   "outputs": [
    {
     "data": {
      "text/plain": [
       "array([[[[ 0.3227883 ],\n",
       "         [ 0.61102734],\n",
       "         [ 0.09832863],\n",
       "         ..., \n",
       "         [ 0.78658118],\n",
       "         [ 0.34987004],\n",
       "         [ 0.98104504]],\n",
       "\n",
       "        [[ 0.08799617],\n",
       "         [ 0.05355093],\n",
       "         [ 0.71008655],\n",
       "         ..., \n",
       "         [ 0.63288824],\n",
       "         [ 0.01906753],\n",
       "         [ 0.39738982]],\n",
       "\n",
       "        [[ 0.66177425],\n",
       "         [ 0.99786865],\n",
       "         [ 0.48563119],\n",
       "         ..., \n",
       "         [ 0.59688706],\n",
       "         [ 0.31943107],\n",
       "         [ 0.96794632]],\n",
       "\n",
       "        ..., \n",
       "        [[ 0.61084186],\n",
       "         [ 0.74834123],\n",
       "         [ 0.66916319],\n",
       "         ..., \n",
       "         [ 0.94162342],\n",
       "         [ 0.77805944],\n",
       "         [ 0.09114411]],\n",
       "\n",
       "        [[ 0.56938139],\n",
       "         [ 0.50796703],\n",
       "         [ 0.79520696],\n",
       "         ..., \n",
       "         [ 0.4745386 ],\n",
       "         [ 0.88605828],\n",
       "         [ 0.46514373]],\n",
       "\n",
       "        [[ 0.01212888],\n",
       "         [ 0.90188337],\n",
       "         [ 0.58200496],\n",
       "         ..., \n",
       "         [ 0.1909767 ],\n",
       "         [ 0.88917859],\n",
       "         [ 0.38708265]]],\n",
       "\n",
       "\n",
       "       [[[ 0.30441437],\n",
       "         [ 0.39413636],\n",
       "         [ 0.267544  ],\n",
       "         ..., \n",
       "         [ 0.2607833 ],\n",
       "         [ 0.069175  ],\n",
       "         [ 0.41006406]],\n",
       "\n",
       "        [[ 0.56764969],\n",
       "         [ 0.45476841],\n",
       "         [ 0.89319449],\n",
       "         ..., \n",
       "         [ 0.65192163],\n",
       "         [ 0.52481117],\n",
       "         [ 0.20178246]],\n",
       "\n",
       "        [[ 0.12630035],\n",
       "         [ 0.27886063],\n",
       "         [ 0.34008763],\n",
       "         ..., \n",
       "         [ 0.57311225],\n",
       "         [ 0.52906635],\n",
       "         [ 0.74370981]],\n",
       "\n",
       "        ..., \n",
       "        [[ 0.12996398],\n",
       "         [ 0.15439096],\n",
       "         [ 0.40771217],\n",
       "         ..., \n",
       "         [ 0.01107337],\n",
       "         [ 0.01895332],\n",
       "         [ 0.26703732]],\n",
       "\n",
       "        [[ 0.8422604 ],\n",
       "         [ 0.84229605],\n",
       "         [ 0.47575759],\n",
       "         ..., \n",
       "         [ 0.89168387],\n",
       "         [ 0.40496387],\n",
       "         [ 0.60004262]],\n",
       "\n",
       "        [[ 0.44129565],\n",
       "         [ 0.81936746],\n",
       "         [ 0.4225196 ],\n",
       "         ..., \n",
       "         [ 0.48993818],\n",
       "         [ 0.06964442],\n",
       "         [ 0.03330393]]],\n",
       "\n",
       "\n",
       "       [[[ 0.61307103],\n",
       "         [ 0.88734545],\n",
       "         [ 0.69629828],\n",
       "         ..., \n",
       "         [ 0.69322037],\n",
       "         [ 0.20749207],\n",
       "         [ 0.87457236]],\n",
       "\n",
       "        [[ 0.25202773],\n",
       "         [ 0.08243251],\n",
       "         [ 0.29000403],\n",
       "         ..., \n",
       "         [ 0.91385588],\n",
       "         [ 0.28796648],\n",
       "         [ 0.28547088]],\n",
       "\n",
       "        [[ 0.08684542],\n",
       "         [ 0.51667847],\n",
       "         [ 0.61551287],\n",
       "         ..., \n",
       "         [ 0.9921409 ],\n",
       "         [ 0.59506658],\n",
       "         [ 0.25560642]],\n",
       "\n",
       "        ..., \n",
       "        [[ 0.53681852],\n",
       "         [ 0.41768356],\n",
       "         [ 0.29153284],\n",
       "         ..., \n",
       "         [ 0.32552884],\n",
       "         [ 0.59383485],\n",
       "         [ 0.00497425]],\n",
       "\n",
       "        [[ 0.0619339 ],\n",
       "         [ 0.54456637],\n",
       "         [ 0.36249889],\n",
       "         ..., \n",
       "         [ 0.84939914],\n",
       "         [ 0.18592152],\n",
       "         [ 0.91828614]],\n",
       "\n",
       "        [[ 0.75521052],\n",
       "         [ 0.4905982 ],\n",
       "         [ 0.53428899],\n",
       "         ..., \n",
       "         [ 0.29115214],\n",
       "         [ 0.11300863],\n",
       "         [ 0.20464874]]],\n",
       "\n",
       "\n",
       "       ..., \n",
       "       [[[ 0.10274563],\n",
       "         [ 0.37583026],\n",
       "         [ 0.14659859],\n",
       "         ..., \n",
       "         [ 0.36670242],\n",
       "         [ 0.46252162],\n",
       "         [ 0.90029507]],\n",
       "\n",
       "        [[ 0.11785616],\n",
       "         [ 0.72873801],\n",
       "         [ 0.33686658],\n",
       "         ..., \n",
       "         [ 0.98327809],\n",
       "         [ 0.5595436 ],\n",
       "         [ 0.63559888]],\n",
       "\n",
       "        [[ 0.40516873],\n",
       "         [ 0.52476022],\n",
       "         [ 0.7097549 ],\n",
       "         ..., \n",
       "         [ 0.51641173],\n",
       "         [ 0.40852087],\n",
       "         [ 0.92550897]],\n",
       "\n",
       "        ..., \n",
       "        [[ 0.70567313],\n",
       "         [ 0.49987694],\n",
       "         [ 0.32296495],\n",
       "         ..., \n",
       "         [ 0.79385316],\n",
       "         [ 0.62947863],\n",
       "         [ 0.40202868]],\n",
       "\n",
       "        [[ 0.43971321],\n",
       "         [ 0.37268983],\n",
       "         [ 0.57200528],\n",
       "         ..., \n",
       "         [ 0.50921323],\n",
       "         [ 0.37622391],\n",
       "         [ 0.55125752]],\n",
       "\n",
       "        [[ 0.30160895],\n",
       "         [ 0.3556526 ],\n",
       "         [ 0.27308412],\n",
       "         ..., \n",
       "         [ 0.53805116],\n",
       "         [ 0.44090331],\n",
       "         [ 0.69834821]]],\n",
       "\n",
       "\n",
       "       [[[ 0.06834553],\n",
       "         [ 0.9504152 ],\n",
       "         [ 0.98880561],\n",
       "         ..., \n",
       "         [ 0.17199569],\n",
       "         [ 0.5781146 ],\n",
       "         [ 0.93567128]],\n",
       "\n",
       "        [[ 0.28789725],\n",
       "         [ 0.14451889],\n",
       "         [ 0.60066836],\n",
       "         ..., \n",
       "         [ 0.47322421],\n",
       "         [ 0.0144513 ],\n",
       "         [ 0.72842662]],\n",
       "\n",
       "        [[ 0.0162944 ],\n",
       "         [ 0.90594677],\n",
       "         [ 0.34607534],\n",
       "         ..., \n",
       "         [ 0.64679339],\n",
       "         [ 0.83482339],\n",
       "         [ 0.04259478]],\n",
       "\n",
       "        ..., \n",
       "        [[ 0.80265527],\n",
       "         [ 0.92358296],\n",
       "         [ 0.17630911],\n",
       "         ..., \n",
       "         [ 0.03701462],\n",
       "         [ 0.11843451],\n",
       "         [ 0.79722112]],\n",
       "\n",
       "        [[ 0.92791963],\n",
       "         [ 0.6774371 ],\n",
       "         [ 0.55757997],\n",
       "         ..., \n",
       "         [ 0.26057913],\n",
       "         [ 0.10571997],\n",
       "         [ 0.06326005]],\n",
       "\n",
       "        [[ 0.0704165 ],\n",
       "         [ 0.43644858],\n",
       "         [ 0.4619644 ],\n",
       "         ..., \n",
       "         [ 0.0390988 ],\n",
       "         [ 0.78674662],\n",
       "         [ 0.58958547]]],\n",
       "\n",
       "\n",
       "       [[[ 0.58980572],\n",
       "         [ 0.17842076],\n",
       "         [ 0.69722649],\n",
       "         ..., \n",
       "         [ 0.43454151],\n",
       "         [ 0.5459076 ],\n",
       "         [ 0.21400474]],\n",
       "\n",
       "        [[ 0.12051648],\n",
       "         [ 0.21893899],\n",
       "         [ 0.19693576],\n",
       "         ..., \n",
       "         [ 0.99008382],\n",
       "         [ 0.30526069],\n",
       "         [ 0.48663149]],\n",
       "\n",
       "        [[ 0.47829526],\n",
       "         [ 0.39525645],\n",
       "         [ 0.84049477],\n",
       "         ..., \n",
       "         [ 0.53542971],\n",
       "         [ 0.12327332],\n",
       "         [ 0.84926207]],\n",
       "\n",
       "        ..., \n",
       "        [[ 0.57406151],\n",
       "         [ 0.98111005],\n",
       "         [ 0.94798112],\n",
       "         ..., \n",
       "         [ 0.26549002],\n",
       "         [ 0.02445361],\n",
       "         [ 0.86490035]],\n",
       "\n",
       "        [[ 0.06748616],\n",
       "         [ 0.54078358],\n",
       "         [ 0.37026496],\n",
       "         ..., \n",
       "         [ 0.23373138],\n",
       "         [ 0.15111068],\n",
       "         [ 0.80723943]],\n",
       "\n",
       "        [[ 0.84355478],\n",
       "         [ 0.25809445],\n",
       "         [ 0.27438199],\n",
       "         ..., \n",
       "         [ 0.23675434],\n",
       "         [ 0.56500145],\n",
       "         [ 0.29251514]]]])"
      ]
     },
     "execution_count": 108,
     "metadata": {},
     "output_type": "execute_result"
    }
   ],
   "source": [
    "x_train"
   ]
  },
  {
   "cell_type": "code",
   "execution_count": 66,
   "metadata": {
    "collapsed": false
   },
   "outputs": [
    {
     "data": {
      "text/plain": [
       "array([ 1.,  0.])"
      ]
     },
     "execution_count": 66,
     "metadata": {},
     "output_type": "execute_result"
    }
   ],
   "source": [
    "y_train[0]"
   ]
  },
  {
   "cell_type": "code",
   "execution_count": 67,
   "metadata": {
    "collapsed": false
   },
   "outputs": [],
   "source": [
    "model = Sequential()\n",
    "# input: 100x100 images with 3 channels -> (100, 100) tensors.\n",
    "# this applies 32 convolution filters of size 3x3 each.\n",
    "model.add(Conv2D(32, (3, 3), activation='relu', input_shape=(100, 100, 1)))\n",
    "model.add(Conv2D(32, (3, 3), activation='relu'))\n",
    "model.add(MaxPooling2D(pool_size=(2, 2)))\n",
    "model.add(Dropout(0.25))"
   ]
  },
  {
   "cell_type": "code",
   "execution_count": 68,
   "metadata": {
    "collapsed": true
   },
   "outputs": [],
   "source": [
    "model.add(Conv2D(64, (3, 3), activation='relu'))\n",
    "model.add(Conv2D(64, (3, 3), activation='relu'))\n",
    "model.add(MaxPooling2D(pool_size=(2, 2)))\n",
    "model.add(Dropout(0.25))"
   ]
  },
  {
   "cell_type": "code",
   "execution_count": 69,
   "metadata": {
    "collapsed": true
   },
   "outputs": [],
   "source": [
    "model.add(Flatten())\n",
    "model.add(Dense(256, activation='relu'))\n",
    "model.add(Dropout(0.5))\n",
    "model.add(Dense(2, activation='softmax'))"
   ]
  },
  {
   "cell_type": "code",
   "execution_count": 70,
   "metadata": {
    "collapsed": true
   },
   "outputs": [],
   "source": [
    "sgd = SGD(lr=0.01, decay=1e-6, momentum=0.9, nesterov=True)\n",
    "model.compile(loss='categorical_crossentropy', optimizer=sgd)"
   ]
  },
  {
   "cell_type": "code",
   "execution_count": 71,
   "metadata": {
    "collapsed": false,
    "scrolled": true
   },
   "outputs": [
    {
     "name": "stdout",
     "output_type": "stream",
     "text": [
      "Epoch 1/10\n",
      "100/100 [==============================] - 2s - loss: 0.4231     \n",
      "Epoch 2/10\n",
      "100/100 [==============================] - 2s - loss: 0.0025     \n",
      "Epoch 3/10\n",
      "100/100 [==============================] - 2s - loss: 1.1375e-05     \n",
      "Epoch 4/10\n",
      "100/100 [==============================] - 2s - loss: 1.1921e-07     \n",
      "Epoch 5/10\n",
      "100/100 [==============================] - 2s - loss: 1.1921e-07     \n",
      "Epoch 6/10\n",
      "100/100 [==============================] - 2s - loss: 1.1921e-07     \n",
      "Epoch 7/10\n",
      "100/100 [==============================] - 2s - loss: 1.1921e-07     \n",
      "Epoch 8/10\n",
      "100/100 [==============================] - 2s - loss: 1.1921e-07     \n",
      "Epoch 9/10\n",
      "100/100 [==============================] - 2s - loss: 1.1921e-07     \n",
      "Epoch 10/10\n",
      "100/100 [==============================] - 2s - loss: 1.1921e-07     \n",
      "20/20 [==============================] - 0s\n"
     ]
    }
   ],
   "source": [
    "model.fit(x_train, y_train, batch_size=32, epochs=10)\n",
    "score = model.evaluate(x_test, y_test, batch_size=32)"
   ]
  },
  {
   "cell_type": "code",
   "execution_count": null,
   "metadata": {
    "collapsed": true
   },
   "outputs": [],
   "source": []
  },
  {
   "cell_type": "markdown",
   "metadata": {},
   "source": [
    "####The real thing"
   ]
  },
  {
   "cell_type": "code",
   "execution_count": 39,
   "metadata": {
    "collapsed": true
   },
   "outputs": [],
   "source": [
    "species = 'leptothorax'\n",
    "image_size = 50"
   ]
  },
  {
   "cell_type": "code",
   "execution_count": 40,
   "metadata": {
    "collapsed": false
   },
   "outputs": [],
   "source": [
    "larvae_files = os.listdir('/cellar/users/ramarty/Data/ants/version2.0/training/{0}/size_{1}/larvae'.format(species, image_size))[:1000]\n",
    "pupae_files = os.listdir('/cellar/users/ramarty/Data/ants/version2.0/training/{0}/size_{1}/pupae'.format(species, image_size))[:1000]\n",
    "other_files = os.listdir('/cellar/users/ramarty/Data/ants/version2.0//training/{0}/size_{1}/other'.format(species, image_size))[:2000]"
   ]
  },
  {
   "cell_type": "code",
   "execution_count": 41,
   "metadata": {
    "collapsed": false
   },
   "outputs": [],
   "source": [
    "larvae_images = [np.expand_dims(Image.open('/cellar/users/ramarty/Data/ants/version2.0/training/{0}/size_{1}/larvae/{2}'.format(species, image_size, x)), axis=2) for x in larvae_files] + [np.expand_dims(Image.open('/cellar/users/ramarty/Data/ants/version2.0/training/{0}/size_{1}/pupae/{2}'.format(species, image_size, x)), axis=2) for x in pupae_files]\n",
    "other_images = [np.expand_dims(Image.open('/cellar/users/ramarty/Data/ants/version2.0/training/{0}/size_{1}/other/{2}'.format(species, image_size, x)), axis=2) for x in other_files]"
   ]
  },
  {
   "cell_type": "code",
   "execution_count": 42,
   "metadata": {
    "collapsed": false
   },
   "outputs": [],
   "source": [
    "images = np.array(larvae_images + other_images)\n",
    "classifications = [[1,0] for x in larvae_images] + [[0,1] for x in other_images]"
   ]
  },
  {
   "cell_type": "code",
   "execution_count": 52,
   "metadata": {
    "collapsed": false
   },
   "outputs": [],
   "source": [
    "X_train, X_test, y_train, y_test = train_test_split(images, classifications, test_size=0.33, random_state=42)"
   ]
  },
  {
   "cell_type": "code",
   "execution_count": 53,
   "metadata": {
    "collapsed": false
   },
   "outputs": [
    {
     "data": {
      "text/plain": [
       "(50, 50, 1)"
      ]
     },
     "execution_count": 53,
     "metadata": {},
     "output_type": "execute_result"
    }
   ],
   "source": [
    "X_train[0].shape"
   ]
  },
  {
   "cell_type": "code",
   "execution_count": 54,
   "metadata": {
    "collapsed": true
   },
   "outputs": [],
   "source": [
    "num_train = len(X_train)\n",
    "num_test = len(X_test)"
   ]
  },
  {
   "cell_type": "code",
   "execution_count": 55,
   "metadata": {
    "collapsed": true
   },
   "outputs": [],
   "source": [
    "model = Sequential()\n",
    "# input: 100x100 images with 3 channels -> (100, 100, 3) tensors.\n",
    "# this applies 32 convolution filters of size 3x3 each.\n",
    "model.add(Conv2D(32, (3, 3), activation='relu', input_shape=(50, 50, 1)))\n",
    "model.add(Conv2D(32, (3, 3), activation='relu'))\n",
    "model.add(MaxPooling2D(pool_size=(2, 2)))\n",
    "model.add(Dropout(0.25))"
   ]
  },
  {
   "cell_type": "code",
   "execution_count": 56,
   "metadata": {
    "collapsed": true
   },
   "outputs": [],
   "source": [
    "model.add(Conv2D(64, (3, 3), activation='relu'))\n",
    "model.add(Conv2D(64, (3, 3), activation='relu'))\n",
    "model.add(MaxPooling2D(pool_size=(2, 2)))\n",
    "model.add(Dropout(0.25))"
   ]
  },
  {
   "cell_type": "code",
   "execution_count": 57,
   "metadata": {
    "collapsed": false
   },
   "outputs": [],
   "source": [
    "model.add(Flatten())\n",
    "model.add(Dense(256, activation='relu'))\n",
    "model.add(Dropout(0.5))\n",
    "model.add(Dense(2, activation='softmax'))"
   ]
  },
  {
   "cell_type": "code",
   "execution_count": 58,
   "metadata": {
    "collapsed": false
   },
   "outputs": [],
   "source": [
    "sgd = SGD(lr=1, decay=1e-6, momentum=0.9, nesterov=True)\n",
    "model.compile(loss='categorical_crossentropy', metrics=[metrics.categorical_accuracy], optimizer=sgd)"
   ]
  },
  {
   "cell_type": "code",
   "execution_count": 59,
   "metadata": {
    "collapsed": false
   },
   "outputs": [
    {
     "name": "stdout",
     "output_type": "stream",
     "text": [
      "Epoch 1/10\n",
      "2010/2010 [==============================] - 14s - loss: 5.2816 - categorical_accuracy: 0.6716    \n",
      "Epoch 2/10\n",
      "2010/2010 [==============================] - 14s - loss: 5.2845 - categorical_accuracy: 0.6721    \n",
      "Epoch 3/10\n",
      "2010/2010 [==============================] - 14s - loss: 5.2845 - categorical_accuracy: 0.6721    \n",
      "Epoch 4/10\n",
      "2010/2010 [==============================] - 14s - loss: 5.2845 - categorical_accuracy: 0.6721    \n",
      "Epoch 5/10\n",
      "2010/2010 [==============================] - 14s - loss: 5.2845 - categorical_accuracy: 0.6721    \n",
      "Epoch 6/10\n",
      "2010/2010 [==============================] - 14s - loss: 5.2845 - categorical_accuracy: 0.6721    \n",
      "Epoch 7/10\n",
      "2010/2010 [==============================] - 14s - loss: 5.2845 - categorical_accuracy: 0.6721    \n",
      "Epoch 8/10\n",
      "2010/2010 [==============================] - 14s - loss: 5.2845 - categorical_accuracy: 0.6721    \n",
      "Epoch 9/10\n",
      "2010/2010 [==============================] - 14s - loss: 5.2845 - categorical_accuracy: 0.6721    \n",
      "Epoch 10/10\n",
      "2010/2010 [==============================] - 14s - loss: 5.2845 - categorical_accuracy: 0.6721    \n",
      "990/990 [==============================] - 1s     \n"
     ]
    }
   ],
   "source": [
    "history_callback = model.fit(X_train, y_train, batch_size=10, epochs=10)\n",
    "score = model.evaluate(X_test, y_test, batch_size=32)"
   ]
  },
  {
   "cell_type": "code",
   "execution_count": 60,
   "metadata": {
    "collapsed": false
   },
   "outputs": [
    {
     "data": {
      "text/plain": [
       "[0.6716417938989786,\n",
       " 0.67213930560285184,\n",
       " 0.67213930567698688,\n",
       " 0.67213930478736539,\n",
       " 0.67213930545458156,\n",
       " 0.67213930693728419,\n",
       " 0.6721393050097707,\n",
       " 0.67213930864239213,\n",
       " 0.67213930582525716,\n",
       " 0.67213930575112202]"
      ]
     },
     "execution_count": 60,
     "metadata": {},
     "output_type": "execute_result"
    }
   ],
   "source": [
    "history_callback.history[\"categorical_accuracy\"]"
   ]
  },
  {
   "cell_type": "code",
   "execution_count": 73,
   "metadata": {
    "collapsed": false
   },
   "outputs": [
    {
     "data": {
      "text/plain": [
       "0.90292758089368264"
      ]
     },
     "execution_count": 73,
     "metadata": {},
     "output_type": "execute_result"
    }
   ],
   "source": [
    "score[1]"
   ]
  },
  {
   "cell_type": "markdown",
   "metadata": {},
   "source": [
    "####Test on sample photo"
   ]
  },
  {
   "cell_type": "code",
   "execution_count": 17,
   "metadata": {
    "collapsed": true
   },
   "outputs": [],
   "source": [
    "cfellah_test_files = list(set([x.split('.')[0] for x in os.listdir('/cellar/users/ramarty/Data/ants/photos/') if ('2017' in x) or ('2016' in x)]))[-5:]"
   ]
  },
  {
   "cell_type": "code",
   "execution_count": 64,
   "metadata": {
    "collapsed": true
   },
   "outputs": [],
   "source": [
    "test_photo = cfellah_test_files[0]\n",
    "step = 25\n",
    "image_size = 50"
   ]
  },
  {
   "cell_type": "code",
   "execution_count": 65,
   "metadata": {
    "collapsed": false
   },
   "outputs": [
    {
     "data": {
      "text/plain": [
       "(1, 50, 50, 1)"
      ]
     },
     "execution_count": 65,
     "metadata": {},
     "output_type": "execute_result"
    }
   ],
   "source": [
    "np.expand_dims(np.array(image[i:i+image_size, j:j+image_size]), axis=0).shape"
   ]
  },
  {
   "cell_type": "code",
   "execution_count": 66,
   "metadata": {
    "collapsed": false
   },
   "outputs": [
    {
     "name": "stdout",
     "output_type": "stream",
     "text": [
      "None\n"
     ]
    }
   ],
   "source": [
    "print np.newaxis"
   ]
  },
  {
   "cell_type": "code",
   "execution_count": 67,
   "metadata": {
    "collapsed": false,
    "scrolled": true
   },
   "outputs": [
    {
     "name": "stdout",
     "output_type": "stream",
     "text": [
      "4560 3048\n",
      "0\n",
      "1\n",
      "2\n",
      "3\n",
      "4\n",
      "5\n",
      "6\n",
      "7\n",
      "8\n",
      "9\n",
      "10\n",
      "11\n",
      "12\n",
      "13\n",
      "14\n",
      "15\n",
      "16\n",
      "17\n",
      "18\n",
      "19\n",
      "20\n",
      "21\n",
      "22\n",
      "23\n",
      "24\n",
      "25\n",
      "26\n",
      "27\n",
      "28\n",
      "29\n",
      "30\n",
      "31\n",
      "32\n",
      "33\n",
      "34\n",
      "35\n",
      "36\n",
      "37\n",
      "38\n",
      "39\n",
      "40\n",
      "41\n",
      "42\n",
      "43\n",
      "44\n",
      "45\n",
      "46\n",
      "47\n",
      "48\n",
      "49\n",
      "50\n",
      "51\n",
      "52\n",
      "53\n",
      "54\n",
      "55\n",
      "56\n",
      "57\n",
      "58\n",
      "59\n",
      "60\n",
      "61\n",
      "62\n",
      "63\n",
      "64\n",
      "65\n",
      "66\n",
      "67\n",
      "68\n",
      "69\n",
      "70\n",
      "71\n",
      "72\n",
      "73\n",
      "74\n",
      "75\n",
      "76\n",
      "77\n",
      "78\n",
      "79\n",
      "80\n",
      "81\n",
      "82\n",
      "83\n",
      "84\n",
      "85\n",
      "86\n",
      "87\n",
      "88\n",
      "89\n",
      "90\n",
      "91\n",
      "92\n",
      "93\n",
      "94\n",
      "95\n",
      "96\n",
      "97\n",
      "98\n",
      "99\n",
      "100\n",
      "101\n",
      "102\n",
      "103\n",
      "104\n",
      "105\n",
      "106\n",
      "107\n",
      "108\n",
      "109\n",
      "110\n",
      "111\n",
      "112\n",
      "113\n",
      "114\n",
      "115\n",
      "116\n",
      "117\n",
      "118\n",
      "119\n",
      "120\n",
      "121\n",
      "122\n",
      "123\n",
      "124\n",
      "125\n",
      "126\n",
      "127\n",
      "128\n",
      "129\n",
      "130\n",
      "131\n",
      "132\n",
      "133\n",
      "134\n",
      "135\n",
      "136\n",
      "137\n",
      "138\n",
      "139\n",
      "140\n",
      "141\n",
      "142\n",
      "143\n",
      "144\n",
      "145\n",
      "146\n",
      "147\n",
      "148\n",
      "149\n",
      "150\n",
      "151\n",
      "152\n",
      "153\n",
      "154\n",
      "155\n",
      "156\n",
      "157\n",
      "158\n",
      "159\n",
      "160\n",
      "161\n",
      "162\n",
      "163\n",
      "164\n",
      "165\n",
      "166\n",
      "167\n",
      "168\n",
      "169\n",
      "170\n",
      "171\n",
      "172\n",
      "173\n",
      "174\n",
      "175\n",
      "176\n",
      "177\n",
      "178\n",
      "179\n",
      "180\n"
     ]
    }
   ],
   "source": [
    "# Import classifier\n",
    "#model = load_model('/cellar/users/ramarty/Data/ants/version4.0/classifiers/{0}/convnet.size_{1}.h5'.format(species, image_size))\n",
    "\n",
    "# Makes several predictions for each pixel\n",
    "image = np.expand_dims(Image.open('/cellar/users/ramarty/Data/ants/photos/{0}.pgm'.format(test_photo)), axis=2)\n",
    "x_total, y_total = image.shape[1], image.shape[0]\n",
    "prediction_matrix = [[[] for k in range(x_total)] for l in range(y_total)]\n",
    "# cycle through photo\n",
    "print y_total, x_total\n",
    "for i_index, i in enumerate(range(0, y_total-(image_size), step)):\n",
    "    print i_index\n",
    "    for j_index, j in enumerate(range(0, x_total-(image_size), step)):\n",
    "        #print np.expand_dims(np.array(image[i:i+image_size, j:j+image_size]), axis=0).shape\n",
    "        #print j, j_index\n",
    "        prediction = model.predict(np.expand_dims(np.array(image[i:i+image_size, j:j+image_size]), axis=0))\n",
    "        for i_single in range(i, i+image_size):\n",
    "            for j_single in range(j, j+image_size):\n",
    "                try:\n",
    "                    prediction_matrix[i_single][j_single].append(prediction)\n",
    "                except:\n",
    "                    None"
   ]
  },
  {
   "cell_type": "code",
   "execution_count": 79,
   "metadata": {
    "collapsed": true
   },
   "outputs": [],
   "source": [
    "recombination = 'mean'"
   ]
  },
  {
   "cell_type": "code",
   "execution_count": 80,
   "metadata": {
    "collapsed": false
   },
   "outputs": [
    {
     "ename": "IndexError",
     "evalue": "index 1 is out of bounds for axis 0 with size 1",
     "output_type": "error",
     "traceback": [
      "\u001b[1;31m---------------------------------------------------------------------------\u001b[0m",
      "\u001b[1;31mIndexError\u001b[0m                                Traceback (most recent call last)",
      "\u001b[1;32m<ipython-input-80-e83fa2d764c5>\u001b[0m in \u001b[0;36m<module>\u001b[1;34m()\u001b[0m\n\u001b[0;32m      8\u001b[0m             \u001b[0msummary_matrix\u001b[0m\u001b[1;33m[\u001b[0m\u001b[0mi_index\u001b[0m\u001b[1;33m]\u001b[0m\u001b[1;33m[\u001b[0m\u001b[0mj_index\u001b[0m\u001b[1;33m]\u001b[0m \u001b[1;33m=\u001b[0m \u001b[0mnp\u001b[0m\u001b[1;33m.\u001b[0m\u001b[0mmedian\u001b[0m\u001b[1;33m(\u001b[0m\u001b[0mprediction_matrix\u001b[0m\u001b[1;33m[\u001b[0m\u001b[0mi_index\u001b[0m\u001b[1;33m]\u001b[0m\u001b[1;33m[\u001b[0m\u001b[0mj_index\u001b[0m\u001b[1;33m]\u001b[0m\u001b[1;33m)\u001b[0m\u001b[1;33m\u001b[0m\u001b[0m\n\u001b[0;32m      9\u001b[0m         \u001b[1;32melse\u001b[0m\u001b[1;33m:\u001b[0m \u001b[1;31m# mean\u001b[0m\u001b[1;33m\u001b[0m\u001b[0m\n\u001b[1;32m---> 10\u001b[1;33m             \u001b[0msummary_matrix\u001b[0m\u001b[1;33m[\u001b[0m\u001b[0mi_index\u001b[0m\u001b[1;33m]\u001b[0m\u001b[1;33m[\u001b[0m\u001b[0mj_index\u001b[0m\u001b[1;33m]\u001b[0m \u001b[1;33m=\u001b[0m \u001b[0mnp\u001b[0m\u001b[1;33m.\u001b[0m\u001b[0mmean\u001b[0m\u001b[1;33m(\u001b[0m\u001b[0mprediction_matrix\u001b[0m\u001b[1;33m[\u001b[0m\u001b[0mi_index\u001b[0m\u001b[1;33m]\u001b[0m\u001b[1;33m[\u001b[0m\u001b[0mj_index\u001b[0m\u001b[1;33m]\u001b[0m\u001b[1;33m)\u001b[0m\u001b[1;33m\u001b[0m\u001b[0m\n\u001b[0m",
      "\u001b[1;32m/cellar/users/ramarty/anaconda/lib/python2.7/site-packages/numpy/matrixlib/defmatrix.pyc\u001b[0m in \u001b[0;36m__getitem__\u001b[1;34m(self, index)\u001b[0m\n\u001b[0;32m    316\u001b[0m \u001b[1;33m\u001b[0m\u001b[0m\n\u001b[0;32m    317\u001b[0m         \u001b[1;32mtry\u001b[0m\u001b[1;33m:\u001b[0m\u001b[1;33m\u001b[0m\u001b[0m\n\u001b[1;32m--> 318\u001b[1;33m             \u001b[0mout\u001b[0m \u001b[1;33m=\u001b[0m \u001b[0mN\u001b[0m\u001b[1;33m.\u001b[0m\u001b[0mndarray\u001b[0m\u001b[1;33m.\u001b[0m\u001b[0m__getitem__\u001b[0m\u001b[1;33m(\u001b[0m\u001b[0mself\u001b[0m\u001b[1;33m,\u001b[0m \u001b[0mindex\u001b[0m\u001b[1;33m)\u001b[0m\u001b[1;33m\u001b[0m\u001b[0m\n\u001b[0m\u001b[0;32m    319\u001b[0m         \u001b[1;32mfinally\u001b[0m\u001b[1;33m:\u001b[0m\u001b[1;33m\u001b[0m\u001b[0m\n\u001b[0;32m    320\u001b[0m             \u001b[0mself\u001b[0m\u001b[1;33m.\u001b[0m\u001b[0m_getitem\u001b[0m \u001b[1;33m=\u001b[0m \u001b[0mFalse\u001b[0m\u001b[1;33m\u001b[0m\u001b[0m\n",
      "\u001b[1;31mIndexError\u001b[0m: index 1 is out of bounds for axis 0 with size 1"
     ]
    }
   ],
   "source": [
    "# Sumarizes the predictions for each pixel\n",
    "summary_matrix = [[0 for k in range(x_total)] for l in range(y_total)]\n",
    "for i_index, i in enumerate(range(y_total)):\n",
    "    for j_index, j in enumerate(range(x_total)):\n",
    "        if recombination == 'percentile':\n",
    "            summary_matrix[i_index][j_index] = np.percentile(prediction_matrix[i_index][j_index], 35)\n",
    "        elif recombination == 'median':\n",
    "            summary_matrix[i_index][j_index] = np.median(prediction_matrix[i_index][j_index])\n",
    "        else: # mean\n",
    "            summary_matrix[i_index][j_index] = np.mean(prediction_matrix[i_index][j_index])"
   ]
  },
  {
   "cell_type": "code",
   "execution_count": 74,
   "metadata": {
    "collapsed": true
   },
   "outputs": [],
   "source": [
    "import pickle"
   ]
  },
  {
   "cell_type": "code",
   "execution_count": 76,
   "metadata": {
    "collapsed": false
   },
   "outputs": [],
   "source": [
    "prediction_matrix_np = np.matrix(summary_matrix)\n",
    "prediction_matrix_np = np.nan_to_num(prediction_matrix_np)\n",
    "pickle.dump(prediction_matrix_np, open(\"/cellar/users/ramarty/Data/ants/version4.0/predictions/{0}/{1}.{2}.{3}.{4}.p\".format(species, test_photo, image_size, step, recombination), \"wb\"))"
   ]
  },
  {
   "cell_type": "code",
   "execution_count": null,
   "metadata": {
    "collapsed": true
   },
   "outputs": [],
   "source": [
    "# numpy can resize with nearest neighbor"
   ]
  },
  {
   "cell_type": "code",
   "execution_count": null,
   "metadata": {
    "collapsed": true
   },
   "outputs": [],
   "source": []
  },
  {
   "cell_type": "markdown",
   "metadata": {},
   "source": [
    "#### Visualize"
   ]
  },
  {
   "cell_type": "code",
   "execution_count": 77,
   "metadata": {
    "collapsed": true
   },
   "outputs": [],
   "source": [
    "def f(x):\n",
    "    if ((x[0] == 246) & (x[1] == 255) & (x[2] == 0)) | ((x[0] == 169) & (x[1] == 206) & (x[2] == 114)) | ((x[0] == 251) & (x[1] == 175) & (x[2] == 93)):\n",
    "        return 1\n",
    "    else:\n",
    "        return 0\n",
    "\n",
    "def plot_results(prediction_matrix, test_file_gs):\n",
    "    plt.figure(figsize=(6,8))\n",
    "    # predictions\n",
    "    sns.heatmap(prediction_matrix)\n",
    "    plt.show()\n",
    "    plt.clf()\n",
    "    # gold standard\n",
    "    im = mh.imread(test_file_gs)\n",
    "    plt.imshow(im)\n",
    "    plt.show()\n",
    "    plt.clf()"
   ]
  },
  {
   "cell_type": "code",
   "execution_count": null,
   "metadata": {
    "collapsed": true
   },
   "outputs": [],
   "source": [
    "# need to update to new metrics"
   ]
  },
  {
   "cell_type": "code",
   "execution_count": 78,
   "metadata": {
    "collapsed": false
   },
   "outputs": [
    {
     "name": "stdout",
     "output_type": "stream",
     "text": [
      "72566 36283.0\n",
      "True Positive Rate: 0.5\n",
      "False Positive Rate: 0.495113303517\n"
     ]
    },
    {
     "data": {
      "text/plain": [
       "<matplotlib.axes._subplots.AxesSubplot at 0x7fa02ca80210>"
      ]
     },
     "execution_count": 78,
     "metadata": {},
     "output_type": "execute_result"
    },
    {
     "data": {
      "image/png": "[encoded data removed]",
      "text/plain": [
       "<matplotlib.figure.Figure at 0x7fa02ca72fd0>"
      ]
     },
     "metadata": {},
     "output_type": "display_data"
    }
   ],
   "source": [
    "prediction_matrix = pickle.load(open(\"/cellar/users/ramarty/Data/ants/version4.0/predictions/{0}/{1}.{2}.{3}.{4}.p\".format(species, test_photo, image_size, step, recombination), \"rb\"))\n",
    "gold_standard = mh.imread('/cellar/users/ramarty/Data/ants/photos/{0}.png'.format(test_photo))\n",
    "\n",
    "# make gold standard binary for comaprison\n",
    "gs_binary = np.arange(len(gold_standard)*len(gold_standard[0])).reshape(len(gold_standard), len(gold_standard[0]))\n",
    "for row in range(len(gold_standard)):\n",
    "    for col in range(len(gold_standard[0])):\n",
    "        gs_binary[row][col] = f(gold_standard[row][col])\n",
    "\n",
    "diff = gs_binary - prediction_matrix\n",
    "total_dim = gs_binary.shape[0] * gs_binary.shape[1]\n",
    "tpr = 1 - (diff[(diff > 0)].sum() / gs_binary.sum())\n",
    "fpr = abs(diff[(diff < 0)].sum()) / (total_dim - gs_binary.sum()) # okay -- doesn't account for lightly colored\n",
    "\n",
    "print gs_binary.sum(), diff[(diff > 0)].sum()\n",
    "print 'True Positive Rate:', tpr\n",
    "print 'False Positive Rate:', fpr\n",
    "\n",
    "# Save results to a txt file\n",
    "with open(\"/cellar/users/ramarty/Data/ants/version4.0/predictions/{0}/{1}.{2}.{3}.{4}.txt\".format(species, test_photo, image_size, step, recombination), 'w') as outfile:\n",
    "    outfile.write('True Positive Rate: {0}\\n'.format(tpr))\n",
    "    outfile.write('False Positive Rate: {0}\\n'.format(fpr))\n",
    "\n",
    "# Save images to a file\n",
    "plt.figure(figsize=(6,8))\n",
    "sns.heatmap(prediction_matrix)"
   ]
  },
  {
   "cell_type": "code",
   "execution_count": null,
   "metadata": {
    "collapsed": true
   },
   "outputs": [],
   "source": []
  },
  {
   "cell_type": "markdown",
   "metadata": {},
   "source": [
    "####Extend to three classes"
   ]
  },
  {
   "cell_type": "code",
   "execution_count": null,
   "metadata": {
    "collapsed": true
   },
   "outputs": [],
   "source": []
  }
 ],
 "metadata": {
  "kernelspec": {
   "display_name": "Python 2",
   "language": "python",
   "name": "python2"
  },
  "language_info": {
   "codemirror_mode": {
    "name": "ipython",
    "version": 2
   },
   "file_extension": ".py",
   "mimetype": "text/x-python",
   "name": "python",
   "nbconvert_exporter": "python",
   "pygments_lexer": "ipython2",
   "version": "2.7.12"
  }
 },
 "nbformat": 4,
 "nbformat_minor": 0
}
